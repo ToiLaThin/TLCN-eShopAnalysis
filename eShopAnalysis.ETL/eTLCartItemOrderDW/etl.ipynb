{
 "cells": [
  {
   "cell_type": "markdown",
   "metadata": {},
   "source": [
    "#### CartItem ETL"
   ]
  },
  {
   "cell_type": "code",
   "execution_count": null,
   "metadata": {},
   "outputs": [],
   "source": [
    "# ETL BrandDim\n",
    "from jobs.extract.extracts import extract_mongo_brands_to_df\n",
    "from jobs.load.loads import load_brand_df_to_mssql\n",
    "\n",
    "brand_df = extract_mongo_brands_to_df()\n",
    "load_brand_df_to_mssql(brand_df)\n",
    "\n"
   ]
  },
  {
   "cell_type": "code",
   "execution_count": null,
   "metadata": {},
   "outputs": [],
   "source": [
    "# ETL CatalogDim\n",
    "import os\n",
    "import pandas as pd\n",
    "from jobs.extract.extracts import extract_mongo_catalogs_to_df\n",
    "from jobs.load.loads import load_catalog_df_to_mssql\n",
    "\n",
    "category_df = extract_mongo_catalogs_to_df()\n",
    "#TODO:\n",
    "# 1. TRANSFORM DELETE NULL CATALOG NAME AND NOT SAVE TO MSSQL\n",
    "load_catalog_df_to_mssql(category_df)\n"
   ]
  },
  {
   "cell_type": "code",
   "execution_count": null,
   "metadata": {},
   "outputs": [],
   "source": [
    "# ETL SubCatalogDim\n",
    "from jobs.extract.extracts import extract_mongo_subcatalogs_to_df\n",
    "from jobs.load.loads import load_subcatalog_df_to_mssql\n",
    "\n",
    "subcatalog_df = extract_mongo_subcatalogs_to_df()\n",
    "print(subcatalog_df)\n",
    "load_subcatalog_df_to_mssql(subcatalog_df)\n"
   ]
  },
  {
   "cell_type": "code",
   "execution_count": null,
   "metadata": {},
   "outputs": [],
   "source": [
    "from jobs.extract.extracts import extract_mongo_usage_instruction_to_df\n",
    "\n",
    "usage_instruction_df = extract_mongo_usage_instruction_to_df()\n",
    "usage_instruction_df"
   ]
  },
  {
   "cell_type": "code",
   "execution_count": null,
   "metadata": {},
   "outputs": [],
   "source": [
    "# ETL PreserveInstructionTypeDim using SpaCy and Vector Similarity\n",
    "import pandas as pd\n",
    "\n",
    "usage_instruction_df = pd.read_csv('resources/product_usage_instruction.csv')\n",
    "usage_instruction_df.dropna(inplace=True, subset=['ProductUsageInstruction'])\n",
    "\n",
    "# another approach is to use topic modeling to find the most important words in the usage instruction, \n",
    "# the most important words will be the labels for the usage instruction type\n",
    "from jobs.transform.usage_instruction_transform import *\n",
    "sublists_list = transform_preprocess_usage_instruction_df_to_sublists_tokens(usage_instruction_df)\n",
    "lemm_stemm_sublists_list = transform_lemm_stem_sublists(sublists_list)\n",
    "reduced_usage_instruction_type_df = transform_sublists_to_reduced_usage_instruction_df(lemm_stemm_sublists_list)\n",
    "# print(reduced_usage_instruction_type_df)\n",
    "from jobs.load.loads import load_usage_instruction_df_to_mssql\n",
    "load_usage_instruction_df_to_mssql(reduced_usage_instruction_type_df)"
   ]
  },
  {
   "cell_type": "code",
   "execution_count": null,
   "metadata": {},
   "outputs": [],
   "source": [
    "# ETL UsageInstructionTypeDim using LDA topic modeling\n",
    "import pandas as pd\n",
    "\n",
    "usage_instruction_df = pd.read_csv('resources/product_usage_instruction.csv')\n",
    "usage_instruction_df.dropna(inplace=True, subset=['ProductUsageInstruction'])\n",
    "\n",
    "from jobs.transform.usage_instruction_transform import transform_to_usage_instruction_df_with_topic_and_word_representation\n",
    "from jobs.load.loads import load_usage_instruction_df_to_mssql\n",
    "# TODO create a util func to get the best number of topic\n",
    "usage_instruction_df_with_topic_and_wp = transform_to_usage_instruction_df_with_topic_and_word_representation(usage_instruction_df, 8)\n",
    "print(usage_instruction_df_with_topic_and_wp)\n",
    "# how to save the model to evaluate the new data: https://stackoverflow.com/a/22034166\n",
    "# how to use this model and evaluate the new data: https://datascience.stackexchange.com/a/107383\n",
    "# another document with all the above: https://medium.com/@rayhantithokharisma/latent-dirichlet-allocation-topic-modelling-with-online-learning-feature-5051ca9df749\n",
    "load_usage_instruction_df_to_mssql(usage_instruction_df_with_topic_and_wp)\n",
    "    "
   ]
  },
  {
   "cell_type": "code",
   "execution_count": null,
   "metadata": {},
   "outputs": [],
   "source": [
    "# ETL PreserveInstructionTypeDim\n",
    "import pandas as pd\n",
    "from jobs.extract.extracts import extract_mongo_preserve_instruction_to_df\n",
    "from jobs.transform.preserve_instruction_transform import transform_to_preserve_instruction_df_with_topic_and_word_representation\n",
    "# TODO create a util func to get the best number of topic\n",
    "preserve_instruction_df = extract_mongo_preserve_instruction_to_df()\n",
    "preserve_instruction_df_with_topic_and_wp = transform_to_preserve_instruction_df_with_topic_and_word_representation(preserve_instruction_df, 3)\n",
    "print(preserve_instruction_df_with_topic_and_wp)\n",
    "from jobs.load.loads import load_preserve_instruction_df_to_mssql\n",
    "load_preserve_instruction_df_to_mssql(preserve_instruction_df_with_topic_and_wp)"
   ]
  },
  {
   "cell_type": "code",
   "execution_count": null,
   "metadata": {},
   "outputs": [],
   "source": [
    "import pandas as pd\n",
    "from jobs.extract.extracts import extract_mongo_product_to_df\n",
    "from jobs.transform.product_product_models_transform import transform_product_df_to_product_df_with_fkey\n",
    "from jobs.load.loads import load_product_df_to_mssql\n",
    "product_not_transformed_df = extract_mongo_product_to_df()\n",
    "product_df_with_dim_keys = transform_product_df_to_product_df_with_fkey(product_not_transformed_df)\n",
    "load_product_df_to_mssql(product_df_with_dim_keys)"
   ]
  },
  {
   "cell_type": "code",
   "execution_count": null,
   "metadata": {},
   "outputs": [],
   "source": [
    "from jobs.extract.extracts import extract_mongo_product_model_to_df\n",
    "from jobs.load.loads import load_product_model_df_to_mssql\n",
    "product_model_df = extract_mongo_product_model_to_df()\n",
    "load_product_model_df_to_mssql(product_model_df)\n"
   ]
  },
  {
   "cell_type": "code",
   "execution_count": null,
   "metadata": {},
   "outputs": [],
   "source": [
    "from jobs.utils.datetime_utils import generate_date_df\n",
    "from jobs.load.loads import load_date_df_to_mssql\n",
    "date_df = generate_date_df(start='2023-12-01 00:00:00', end='2024-08-31 00:00:00')\n",
    "load_date_df_to_mssql(date_df)"
   ]
  },
  {
   "cell_type": "code",
   "execution_count": null,
   "metadata": {},
   "outputs": [],
   "source": [
    "from jobs.extract.extracts import extract_mssql_cart_item_to_df\n",
    "from jobs.transform.cart_items_orders_transform import transform_cart_item_df_to_cart_item_df_with_fkey\n",
    "from jobs.load.loads import load_cart_item_df_to_mssql\n",
    "cart_item_df = extract_mssql_cart_item_to_df()\n",
    "cart_item_df_with_dim_keys = transform_cart_item_df_to_cart_item_df_with_fkey(cart_item_df)\n",
    "load_cart_item_df_to_mssql(cart_item_df_with_dim_keys)"
   ]
  },
  {
   "cell_type": "markdown",
   "metadata": {},
   "source": [
    "#### OrderCart ETL"
   ]
  },
  {
   "cell_type": "code",
   "execution_count": null,
   "metadata": {},
   "outputs": [],
   "source": [
    "from jobs.utils.enum_utils import generate_payment_method_df, generate_discount_type_df, generate_order_status_df, generate_address_df\n",
    "from jobs.load.loads import load_address_df_to_mssql, load_discount_type_df_to_mssql, load_order_status_df_to_mssql, load_payment_method_df_to_mssql\n",
    "payment_method_df = generate_payment_method_df()\n",
    "load_payment_method_df_to_mssql(payment_method_df)"
   ]
  },
  {
   "cell_type": "code",
   "execution_count": null,
   "metadata": {},
   "outputs": [],
   "source": [
    "discount_type_df = generate_discount_type_df()\n",
    "load_discount_type_df_to_mssql(discount_type_df)"
   ]
  },
  {
   "cell_type": "code",
   "execution_count": null,
   "metadata": {},
   "outputs": [],
   "source": [
    "order_status_df = generate_order_status_df()\n",
    "load_order_status_df_to_mssql(order_status_df)"
   ]
  },
  {
   "cell_type": "code",
   "execution_count": null,
   "metadata": {},
   "outputs": [],
   "source": [
    "address_df = generate_address_df()\n",
    "load_address_df_to_mssql(address_df)"
   ]
  },
  {
   "cell_type": "code",
   "execution_count": null,
   "metadata": {},
   "outputs": [],
   "source": [
    "from jobs.extract.extracts import extract_mssql_cart_order_to_df\n",
    "from jobs.transform.cart_items_orders_transform import transform_cart_order_df_to_cart_order_df_with_fkey\n",
    "from jobs.load.loads import load_cart_order_df_to_mssql\n",
    "\n",
    "cart_order_df = extract_mssql_cart_order_to_df()\n",
    "cart_order_df_with_dim_keys = transform_cart_order_df_to_cart_order_df_with_fkey(cart_order_df)\n",
    "load_cart_order_df_to_mssql(cart_order_df_with_dim_keys)"
   ]
  },
  {
   "cell_type": "markdown",
   "metadata": {},
   "source": [
    "#### Recommend Cross Sell ETL"
   ]
  },
  {
   "cell_type": "code",
   "execution_count": null,
   "metadata": {},
   "outputs": [],
   "source": [
    "from jobs.extract.extracts import extract_mongo_interactions_to_df\n",
    "from jobs.transform.product_interactions_transform import transform_product_user_interactions_df\n",
    "interactions_df = extract_mongo_interactions_to_df()\n",
    "interactions_df = transform_product_user_interactions_df(interactions_df)\n",
    "interactions_df.to_csv('../recommendAndCrossSellApi/resources/product_user_interactions.csv', index=False)"
   ]
  },
  {
   "cell_type": "code",
   "execution_count": null,
   "metadata": {},
   "outputs": [],
   "source": [
    "from jobs.extract.extracts import extract_mssql_cart_item_transactions_to_df\n",
    "from jobs.transform.cart_items_orders_transform import transform_cart_item_transactions_df\n",
    "cart_item_transactions_df = extract_mssql_cart_item_transactions_to_df()\n",
    "cart_item_transactions_df = transform_cart_item_transactions_df(cart_item_transactions_df)\n",
    "cart_item_transactions_df.to_csv('../recommendAndCrossSellApi/resources/cart_item_transactions.csv', index=False)"
   ]
  },
  {
   "cell_type": "markdown",
   "metadata": {},
   "source": [
    "#### Move resources to HDFS"
   ]
  },
  {
   "cell_type": "code",
   "execution_count": null,
   "metadata": {},
   "outputs": [],
   "source": [
    "from hdfs import InsecureClient\n",
    "\n",
    "namenode_url = 'http://localhost:9870'\n",
    "hdfs_client_pc = InsecureClient(namenode_url, user='PC')\n",
    "hdfs_client = InsecureClient(namenode_url, user='root')\n",
    "parent_folder = '/user/root'\n",
    "upload_folder = '/user/root/upload'\n",
    "if hdfs_client_pc.list(parent_folder) == None or len(hdfs_client_pc.list(parent_folder)) == 0:\n",
    "    print(\"Creating upload folder\")\n",
    "    hdfs_client_pc.set_owner(parent_folder, owner='root', group='supergroup')\n",
    "    hdfs_client.set_permission(parent_folder, 777)\n",
    "    hdfs_client.makedirs(upload_folder)\n",
    "    print(hdfs_client.list(upload_folder))\n",
    "    hdfs_client.set_permission(upload_folder, 777)\n",
    "hdfs_client.upload(upload_folder, '../recommendAndCrossSellApi/resources/product_user_interactions.csv', overwrite=True)\n",
    "hdfs_client.upload(upload_folder, '../recommendAndCrossSellApi/resources/cart_item_transactions.csv', overwrite=True)\n",
    "print(\"After upload\")\n",
    "print(hdfs_client.list(upload_folder))\n"
   ]
  },
  {
   "cell_type": "code",
   "execution_count": null,
   "metadata": {},
   "outputs": [],
   "source": [
    "from shared.get_connections import get_db_mongo\n",
    "MONGODB_PRODUCT_COLLECTION = os.environ.get('MONGODB_PRODUCT_COLLECTION')\n",
    "MONGO_CONNECTION_STRING = os.environ.get('MONGO_CONNECTION_STRING')\n",
    "MONGO_DATABASE = os.environ.get('MONGO_DATABASE')\n",
    "db = get_db_mongo(MONGO_CONNECTION_STRING, MONGO_DATABASE)\n",
    "product_collection = db.get_collection(MONGODB_PRODUCT_COLLECTION)\n",
    "\n",
    "cursor_products = product_collection.find({})\n",
    "return_df = pd.DataFrame()\n",
    "for p in cursor_products:\n",
    "    try:\n",
    "        product_models = p.get('ProductModels')\n",
    "        product_model_id = product_models[0].get('_id')\n",
    "        product_model_name = p.get('ProductName')\n",
    "        product_price = product_models[0].get('Price')\n",
    "        product_business_key = p.get('BusinessKey')\n",
    "        product_id = p.get('_id')\n",
    "        product_model_cublic_type_fkey = product_models[0].get('CublicType')\n",
    "\n",
    "        df_row_from_series = pd.Series([product_model_id, product_model_name, product_business_key\\\n",
    "                                        , product_id, product_model_cublic_type_fkey, product_price])\\\n",
    "                                    .to_frame().T\n",
    "        return_df = pd.concat([return_df, df_row_from_series], ignore_index=True)\n",
    "    except Exception as e:\n",
    "        print(e)\n",
    "        continue\n",
    "db.client.close()\n",
    "return_df.columns = ['ProductModelId', 'ProductModelName', 'BusinessKey', 'ProductId', 'CublicTypeKey', 'Price']\n",
    "product_model_df = return_df.copy()"
   ]
  },
  {
   "cell_type": "code",
   "execution_count": null,
   "metadata": {},
   "outputs": [],
   "source": [
    "product_features_df = product_not_transformed_df[['ProductName', 'ProductBrandName', 'ProductSubCatalogName', 'BusinessKey']]\n",
    "product_features_df = pd.merge(product_features_df, product_model_df, left_on='BusinessKey', right_on='BusinessKey', how='inner')\n",
    "product_features_df = product_features_df[['ProductName', 'ProductBrandName', 'ProductSubCatalogName', 'BusinessKey', 'Price']]\n",
    "subcatalog_with_catalog_df = pd.merge(subcatalog_df, category_df, left_on='CatalogId', right_on='CatalogId', how='inner')\n",
    "subcatalog_with_catalog_df = subcatalog_with_catalog_df[['SubCatalogName', 'CatalogName']]\n",
    "product_features_df = pd.merge(product_features_df, subcatalog_with_catalog_df, left_on='ProductSubCatalogName', right_on='SubCatalogName', how='inner')\n",
    "product_features_df = product_features_df[['ProductName', 'ProductBrandName', 'ProductSubCatalogName', 'CatalogName', 'Price', 'BusinessKey']]\n",
    "\n",
    "product_features_df.to_csv('resources/product_features.csv', index=False)\n",
    "hdfs_client.upload(upload_folder, 'resources/product_features.csv', overwrite=True)\n",
    "print(hdfs_client.list(upload_folder))"
   ]
  },
  {
   "cell_type": "code",
   "execution_count": null,
   "metadata": {},
   "outputs": [],
   "source": [
    "product_features_df.info()\n",
    "product_features_df.head(2)"
   ]
  },
  {
   "cell_type": "code",
   "execution_count": null,
   "metadata": {},
   "outputs": [],
   "source": [
    "product_ga4_df = pd.read_csv('resources/product_ga4_data_unmodified.csv')\n",
    "product_ga4_df = product_ga4_df.rename(columns={\n",
    "    'Item name': 'p_name',\n",
    "    'Item category': 'p_subcatalog',\n",
    "    'Item ID': 'p_business_key',\n",
    "    'Items viewed': 'views',\n",
    "    'Items added to cart': 'add_to_carts',\n",
    "    'Items purchased': 'purchases',\n",
    "    'Bounce rate': 'bounce_rate',\n",
    "    'Engaged sessions per user': 'engaged_sessions_per_user',}, \n",
    ")\n",
    "product_ga4_df = product_ga4_df[['p_name', 'p_subcatalog', 'p_business_key', 'views', 'add_to_carts', 'purchases']]\n",
    "product_ga4_df.to_csv('resources/product_ga4_data.csv', index=False)\n",
    "hdfs_client.upload(upload_folder, 'resources/product_ga4_data.csv', overwrite=True)\n",
    "print(hdfs_client.list(upload_folder))"
   ]
  },
  {
   "cell_type": "code",
   "execution_count": null,
   "metadata": {},
   "outputs": [],
   "source": [
    "product_ga4_df.info()"
   ]
  }
 ],
 "metadata": {
  "kernelspec": {
   "display_name": "venv",
   "language": "python",
   "name": "python3"
  },
  "language_info": {
   "codemirror_mode": {
    "name": "ipython",
    "version": 3
   },
   "file_extension": ".py",
   "mimetype": "text/x-python",
   "name": "python",
   "nbconvert_exporter": "python",
   "pygments_lexer": "ipython3",
   "version": "3.9.6"
  }
 },
 "nbformat": 4,
 "nbformat_minor": 2
}
