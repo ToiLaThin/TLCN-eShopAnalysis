{
 "cells": [
  {
   "cell_type": "code",
   "execution_count": 4,
   "metadata": {},
   "outputs": [],
   "source": [
    "from redis import Redis"
   ]
  },
  {
   "cell_type": "code",
   "execution_count": 5,
   "metadata": {},
   "outputs": [],
   "source": [
    "r_client = Redis(host='localhost', port=6380, decode_responses=True, db=0)\n",
    "# r_client.flushdb() #flush can delete indexes and data, it can cause exceptions in the code\n",
    "stock_keys = r_client.keys('StockInventory:*')\n",
    "for stock_key in stock_keys:\n",
    "    stock = r_client.hgetall(stock_key)\n",
    "    resp = r_client.delete(stock_key)\n"
   ]
  }
 ],
 "metadata": {
  "kernelspec": {
   "display_name": "venv",
   "language": "python",
   "name": "python3"
  },
  "language_info": {
   "codemirror_mode": {
    "name": "ipython",
    "version": 3
   },
   "file_extension": ".py",
   "mimetype": "text/x-python",
   "name": "python",
   "nbconvert_exporter": "python",
   "pygments_lexer": "ipython3",
   "version": "3.9.6"
  }
 },
 "nbformat": 4,
 "nbformat_minor": 2
}
