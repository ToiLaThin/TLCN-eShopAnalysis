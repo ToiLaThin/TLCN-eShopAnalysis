{
 "cells": [
  {
   "cell_type": "code",
   "execution_count": 6,
   "metadata": {},
   "outputs": [
    {
     "name": "stderr",
     "output_type": "stream",
     "text": [
      "2024-01-16 11:22:52,191 - INFO - Connected to MongoDB database\n"
     ]
    }
   ],
   "source": [
    "from pyodbc import Cursor\n",
    "import requests\n",
    "import os\n",
    "from dotenv import load_dotenv\n",
    "from shared.get_connections import get_db_mongo\n",
    "load_dotenv(\"config.env\")\n",
    "\n",
    "MONGODB_PRODUCT_COLLECTION = os.environ.get('MONGODB_PRODUCT_COLLECTION')\n",
    "MONGODB_CATALOG_COLLECTION = os.environ.get('MONGODB_CATALOG_COLLECTION')\n",
    "DOTNET_BULK_ADD_PROVIDER_REQUIREMENTS_ENDPOINT = os.environ.get('DOTNET_BULK_ADD_PROVIDER_REQUIREMENTS_ENDPOINT')\n",
    "db = get_db_mongo()\n",
    "product_collection = db[MONGODB_PRODUCT_COLLECTION]\n",
    "catalog_collection = db[MONGODB_CATALOG_COLLECTION]\n",
    "cursor_products = product_collection.find({})\n",
    "cursor_catalogs = catalog_collection.find({})\n",
    "\n",
    "post_request_payload = []"
   ]
  },
  {
   "cell_type": "markdown",
   "metadata": {},
   "source": [
    "### This script is to create provider for all product model in mongodb from catalog"
   ]
  },
  {
   "cell_type": "code",
   "execution_count": 7,
   "metadata": {},
   "outputs": [
    {
     "name": "stdout",
     "output_type": "stream",
     "text": [
      "[{'_id': '424cb419-aa6a-4a07-9a83-fbf167864554', 'CatalogSubCatalogs': [], 'CatalogName': 'HOME IMPROVEMENT AND GARDENING'}, {'_id': 'db0288e7-4bb4-4ccb-b825-df9108d9e71b', 'CatalogSubCatalogs': [{'_id': '0b17000d-af19-455f-b0e4-71ddd8da113d', 'SubCatalogName': 'ADDED VITAMINS WATER'}, {'_id': 'db6d3c8e-8ec2-4607-ae75-437c35aac3dc', 'SubCatalogName': 'NATURAL WATER'}], 'CatalogName': 'WATER'}, {'_id': 'b3f4697b-ee01-4023-9cde-82ce5fe4a6ca', 'CatalogSubCatalogs': [{'_id': '77f1e026-3b82-4238-93e4-3d0f70779714', 'SubCatalogName': 'MULTI PURPOSE CLEANER'}, {'_id': '34d9543f-357d-48e6-a3d1-a2f6954ca0e9', 'SubCatalogName': 'WASHING POWDER'}, {'_id': '726d3b4c-225e-4bff-8ab8-f9c720aece3e', 'SubCatalogName': 'WC'}], 'CatalogName': 'HOME CARE'}]\n",
      "[{'_id': '1ebd3790-886b-43d3-9cf0-9117ff79e985', 'CatalogSubCatalogs': [], 'CatalogName': 'BOXES AND BAGS'}, {'_id': 'bfa80fd9-713a-47bf-b0a1-c8f4976e0b2d', 'CatalogSubCatalogs': [{'_id': '222304f9-16ce-47bf-9369-b0cc4574a5ff', 'SubCatalogName': 'CUTTING BOARD'}, {'_id': 'f3511893-a3ad-47a0-887f-9fdd41f61d5a', 'SubCatalogName': 'OTHER TOOLS'}], 'CatalogName': 'KITCHENWARE'}, {'_id': 'a58e80d2-0dc3-4127-84da-2501316ed1f4', 'CatalogSubCatalogs': [], 'CatalogName': None}]\n",
      "[{'_id': '6f6d708a-5575-4532-ac2e-92a9d2c2f72e', 'CatalogSubCatalogs': [], 'CatalogName': 'OTHER PET'}, {'_id': '59958d90-e0ff-4fb3-9451-32f76076f03e', 'CatalogSubCatalogs': [], 'CatalogName': None}, {'_id': '7c295f25-d5b0-4032-9288-d7c35bb06a57', 'CatalogSubCatalogs': [], 'CatalogName': 'FOOD DOG'}]\n",
      "[{'_id': 'da7493e6-b0ce-473f-9953-99cdd82d164a', 'CatalogSubCatalogs': [], 'CatalogName': 'KITCHENAID'}, {'_id': '1a88d3f8-1aea-4563-9eca-1dfee6f08f13', 'CatalogSubCatalogs': [], 'CatalogName': 'HOME APPLIANCES'}, {'_id': 'c3371be9-4fda-4290-8e74-59a91379f882', 'CatalogSubCatalogs': [{'_id': '42873fad-02f7-4bc7-90a4-9b784aaf3c79', 'SubCatalogName': 'BEER IN BARREL AND DRAUGHT BEER'}, {'_id': 'e32276e1-b72b-4b23-9f64-0e4f4c239fc0', 'SubCatalogName': 'DARK BEER'}, {'_id': '4df5a576-e927-44d9-92a7-a6a3e3b614cf', 'SubCatalogName': 'FLAVORED BEER'}, {'_id': '0e9da82c-2852-4a7e-9028-53b1e14b84a1', 'SubCatalogName': 'LAGER BEER'}], 'CatalogName': 'BEER'}]\n",
      "[{'_id': '1917a3f7-f787-462d-9d35-c8e5c5a3627e', 'CatalogSubCatalogs': [], 'CatalogName': 'CIDER'}, {'_id': '462e5e7c-e7b4-4f60-aeb8-e3ff76a288fa', 'CatalogSubCatalogs': [], 'CatalogName': 'FOOD CAT'}, {'_id': 'a7c3b0f5-d729-4875-9790-f452285cb17c', 'CatalogSubCatalogs': [], 'CatalogName': 'FOOD FISH'}]\n",
      "[{'_id': 'cb564bd5-257a-4b48-b125-5931abd991b7', 'CatalogSubCatalogs': [], 'CatalogName': 'CARE FISH'}, {'_id': '02fb57d0-eb55-4f9e-8738-8f126fac7348', 'CatalogSubCatalogs': [], 'CatalogName': 'LOUNGE SALADS'}, {'_id': 'f32e2fb4-6cfa-41bc-bdd8-f742488f52b0', 'CatalogSubCatalogs': [], 'CatalogName': 'CARE CAT'}]\n",
      "[{'_id': '1def499d-adcf-4469-aa5f-56c760fa4958', 'CatalogSubCatalogs': [], 'CatalogName': 'CARE DOG'}, {'_id': 'c51fc97e-809a-43e6-80ee-7746f41f050d', 'CatalogSubCatalogs': [], 'CatalogName': 'LOUNGE MAIN COURSES'}, {'_id': '65411e8e-24dc-478e-9de9-1953328d5979', 'CatalogSubCatalogs': [], 'CatalogName': 'LOUNGE DESSERTS'}]\n",
      "[{'_id': 'b6fb5318-c632-43e9-9719-4b4c972e3c67', 'CatalogSubCatalogs': [], 'CatalogName': 'OTHER LOUNGE'}, {'_id': 'ff893325-de64-4956-a2ea-1f0b630d60ab', 'CatalogSubCatalogs': [], 'CatalogName': 'LOUNGE BEVERAGES'}, {'_id': '1383b8d7-c1d0-415f-a9de-855fc7b96321', 'CatalogSubCatalogs': [], 'CatalogName': 'LOUNGE BREAKFAST'}]\n",
      "[{'_id': 'b39d9cf8-c0c5-43cd-b0e1-079bfb50ec23', 'CatalogSubCatalogs': [{'_id': 'bbd990f9-f4aa-4f62-873c-9114f9efc64d', 'SubCatalogName': 'LIPS-CARE'}, {'_id': '9edbcfb9-3adf-4f60-9cd3-d47aed40b39a', 'SubCatalogName': 'MOISTURIZING CARE'}], 'CatalogName': 'COSMETICS'}, {'_id': 'a0c11331-54c8-4c1c-8aff-0415c98aaa15', 'CatalogSubCatalogs': [{'_id': '2b8bb96b-382e-4fc6-8092-30189f3f2f2d', 'SubCatalogName': 'BABYCARE'}, {'_id': '47cc0c46-5659-42f1-a0ee-c2c115a91de6', 'SubCatalogName': 'SANITARY TOWEL'}, {'_id': 'c911d2ad-9a0c-4b79-8833-f38724c2ea4a', 'SubCatalogName': 'TOILET PAPER'}], 'CatalogName': 'HEALTH CARE'}, {'_id': 'd4289f80-8cda-4f63-9610-32fdd03fa39d', 'CatalogSubCatalogs': [{'_id': '8b8c7bc6-5f7d-42b1-9a49-5a74af0e9414', 'SubCatalogName': 'SHAMPOO'}, {'_id': '357ae076-7682-4df3-b312-75df3eff87d0', 'SubCatalogName': 'SHOWER FOR WOMEN'}, {'_id': '1628d737-8942-4062-8fe9-0edcceab5ce8', 'SubCatalogName': 'TOOTH PASTE'}, {'_id': '9a1a647f-e13d-4418-82ed-e156bd77caba', 'SubCatalogName': 'TOOTHBRUSH FOR ADULT'}, {'_id': '827b2afc-d55e-45d8-8d39-3b3fa0d28362', 'SubCatalogName': 'TOOTHBRUSH FOR KIDS'}], 'CatalogName': 'BODY CARE'}]\n",
      "[{'_id': 'fa5a70e3-19df-412b-b869-cc074cad91ac', 'CatalogSubCatalogs': [], 'CatalogName': 'SALTED PASTRY'}, {'_id': '5b77c5e2-58dd-425d-b24c-f9520f6cfba4', 'CatalogSubCatalogs': [], 'CatalogName': 'OTHER FROZEN GOODS'}, {'_id': '8c03fc5a-33b0-49b0-8279-18e710732d68', 'CatalogSubCatalogs': [{'_id': '69872c10-5e4d-4749-adb9-c05494aa2108', 'SubCatalogName': 'TORTILLAS'}, {'_id': '5fa42e6d-7c91-40ef-a6db-39ac8ea9268f', 'SubCatalogName': 'BREAD'}, {'_id': '069fd6ed-7787-4f87-a971-28a383998da3', 'SubCatalogName': 'OTHER BAKERY ITEMS'}], 'CatalogName': 'BAKERY'}]\n",
      "[{'_id': '2adaf175-9789-4640-bf7a-e61c5ac41b11', 'CatalogSubCatalogs': [], 'CatalogName': 'RECREATION AND STATIONERY'}, {'_id': '7314277f-a1c4-46aa-bde6-4b4235ea1c29', 'CatalogSubCatalogs': [{'_id': '3ea5708f-2cff-44f0-83b7-2a3997c31615', 'SubCatalogName': 'TRAY'}, {'_id': '0bba1ca7-3115-44ce-9623-3e24c789139c', 'SubCatalogName': 'WATER GLASS'}], 'CatalogName': 'TABLEWARE'}, {'_id': '8df64690-f96b-4aeb-8b64-30131fa0a92a', 'CatalogSubCatalogs': [{'_id': 'de8b97ec-3fa2-4c92-8750-5e893cc13593', 'SubCatalogName': 'FROZEN MINCED BEEF'}, {'_id': '6c624493-50a9-412c-9ffc-b0c36fc579da', 'SubCatalogName': 'FROZEN SAUSAGES'}, {'_id': '9b25e1f1-1c14-4a65-8056-256e6a492327', 'SubCatalogName': 'OTHER FROZEN MEAT'}], 'CatalogName': 'FROZEN MEAT'}]\n",
      "[{'_id': '7ec08204-3b42-4305-9fe2-8b19df320ece', 'CatalogSubCatalogs': [{'_id': '4ded5b77-4fd5-466c-aa97-1ca30347e42b', 'SubCatalogName': 'CHOCOLATE ICE CREAM'}, {'_id': '52d1a84d-d2fc-4000-8952-299fa5d7e459', 'SubCatalogName': 'OTHER FRUITS ICE CREAM'}, {'_id': '38073171-cc87-4af4-8169-be65c2221de2', 'SubCatalogName': 'VANILLA ICE CREAM'}], 'CatalogName': 'ICE CREAM'}, {'_id': '70fc07c5-238b-4fd8-9e3b-8098e2df93ed', 'CatalogSubCatalogs': [{'_id': '633b2a59-b2c3-4a5b-9ea5-27df0bc98019', 'SubCatalogName': 'FROZEN FRENCH FRIES'}, {'_id': '4e111a51-8518-46a8-8851-398685a72484', 'SubCatalogName': 'FROZEN MIX'}, {'_id': 'cb4e1692-15b8-497c-8b34-63d75a1b76cf', 'SubCatalogName': 'FROZEN MUSHROOM'}, {'_id': '0eacc0a5-bbab-4d41-9d6e-f3068ffe53de', 'SubCatalogName': 'FROZEN PEAS'}, {'_id': '9b4e1e69-8526-4ed0-b8a4-8c4bfa5bc4d8', 'SubCatalogName': 'OTHER FROZEN FOOD'}, {'_id': '5ba75c81-af2e-411c-8adc-14018aa4ace6', 'SubCatalogName': 'GLOBAL GAP'}], 'CatalogName': 'FROZEN VEGETABLES'}, {'_id': '454247eb-5e6b-4470-8576-4c49ff4138ad', 'CatalogSubCatalogs': [], 'CatalogName': 'FROZEN READY TO COOK'}]\n",
      "[{'_id': '2803646a-2c5e-46cd-b203-eff147fdf7f8', 'CatalogSubCatalogs': [], 'CatalogName': 'FROZEN PASTRY AND BAKERY'}, {'_id': '37220eba-f040-40e0-a8c2-b2949a137e53', 'CatalogSubCatalogs': [{'_id': 'dd0d8a94-92d5-4ceb-b2f0-2b27bf50ec93', 'SubCatalogName': 'FROZEN BLUEBERRY'}, {'_id': '1971b7c5-e718-4dd8-a03a-c320d9f1fec0', 'SubCatalogName': 'FROZEN MIX FRUITS'}], 'CatalogName': 'FROZEN FRUITS'}, {'_id': '8b66d05e-2952-4bbc-bfd7-8798aaf98f6e', 'CatalogSubCatalogs': [{'_id': '9390fb9b-7671-4493-904e-1536abb71eac', 'SubCatalogName': 'FROZEN BREADED FISH'}, {'_id': '1988fcb7-cd62-4045-8b89-c89880ccc246', 'SubCatalogName': 'FROZEN FISH'}, {'_id': 'f8c8c708-879f-4584-bf39-a6213d643018', 'SubCatalogName': 'FROZEN READY-MADE FISH DISH'}, {'_id': '1703f395-4e1f-4f46-a572-c3186ed4850f', 'SubCatalogName': 'FROZEN SHELLFISH AND CRUSTACEAN'}], 'CatalogName': 'FROZEN FISH AND SEAFOOD'}]\n",
      "[{'_id': '4faecd43-959b-4856-b204-efb1a7b34b91', 'CatalogSubCatalogs': [{'_id': '8d36c616-7969-4c92-8ade-f3791d3000dc', 'SubCatalogName': 'CHORIZO, SALAMI AND GARLIC SAUSAGE'}, {'_id': '0b719f00-66cb-4d9c-bc4c-c8c62fb0cfe2', 'SubCatalogName': 'DRY SAUSAGE'}, {'_id': 'bab9369e-e246-4688-b58e-5fe0f6f8021c', 'SubCatalogName': 'HAM'}, {'_id': 'fa9d6c72-d2c8-4229-9be8-57283e31686e', 'SubCatalogName': 'LARDON, BACON AND GESIER'}, {'_id': '7c7c713a-5180-4770-891a-b5f72cb0c1b7', 'SubCatalogName': 'PATE, RILLETTE AND FOIE GRAS'}, {'_id': '5db0ce53-67f7-4e30-a9c9-efe19381b36d', 'SubCatalogName': 'POULTRY'}, {'_id': 'dcc6f987-2389-4557-9493-ffad4fed5863', 'SubCatalogName': 'SAUSAGE AND COOKED SAUCISSON AND BOUDIN'}, {'_id': '40dc9402-ec32-48ae-9a81-86c5304bb4eb', 'SubCatalogName': 'DAIRY FREE'}, {'_id': '20f52d5c-69f5-48ac-a4e9-74178cbdd3a1', 'SubCatalogName': 'GLUTEN FREE'}, {'_id': 'c7b1cd0c-d328-4607-b450-563d8c5d5a76', 'SubCatalogName': 'IPG'}], 'CatalogName': 'PROCESSED MEAT'}, {'_id': '64e60adf-7a19-453d-948a-ec0c20f3bbd7', 'CatalogSubCatalogs': [{'_id': 'd407eb3f-82e9-4292-a6f8-7eb54095b8d5', 'SubCatalogName': 'BIFIDUS'}, {'_id': 'd2f9979b-59b6-43f3-9185-c31df8b33450', 'SubCatalogName': 'FRUIT AND FLAVORED YOGHURT'}, {'_id': '4e9aea2e-940c-4243-bfc2-765ef7f973b9', 'SubCatalogName': 'NATURE'}], 'CatalogName': 'YOGURT AND CREAM'}, {'_id': '20dcd5fb-6bd6-4498-a614-780c088cef9e', 'CatalogSubCatalogs': [{'_id': '19ef0a6a-da5d-48e2-9434-807544c5d680', 'SubCatalogName': 'OTHER SEAFOOD'}, {'_id': 'cc348439-6142-4c53-aa3f-8d65583712d0', 'SubCatalogName': 'SEA FISH'}], 'CatalogName': 'FISH AND SEAFOOD'}]\n",
      "[{'_id': '0ee689f2-851e-437c-8940-c683347f415d', 'CatalogSubCatalogs': [{'_id': '116df0d3-bf5f-4ed8-b137-450b4c09d52c', 'SubCatalogName': 'AROMATIC HERBS'}, {'_id': 'f1f3259a-22eb-4ead-9bd9-17e431ac591f', 'SubCatalogName': 'ASPARGUS'}, {'_id': 'f4b1eccc-1420-49b3-b19c-e99ea30c9fb1', 'SubCatalogName': 'BEANS'}, {'_id': '8538b56c-f950-49ec-a489-31e1fb2d3331', 'SubCatalogName': 'BELL PEPPER'}, {'_id': '6c19f964-957c-4d50-8494-d310620479a9', 'SubCatalogName': 'BROCCOLI'}, {'_id': 'ac8e455a-7d57-4427-84ce-ac4da16b7323', 'SubCatalogName': 'CABBAGE'}, {'_id': '79f64d9a-0770-4604-96c5-f00afdfc1002', 'SubCatalogName': 'CARROT'}, {'_id': '5875db10-2f0d-46e9-b963-c57b97ed9b7d', 'SubCatalogName': 'CORN'}, {'_id': '1ec5788a-d40a-4c50-bb51-14a59c2ee959', 'SubCatalogName': 'CUCUMBER'}, {'_id': 'e6390416-1fc4-46b6-aa98-a343c3ace9be', 'SubCatalogName': 'EGGPLANT'}, {'_id': '71fc5f78-cc9c-446c-860b-d6cf5483f47d', 'SubCatalogName': 'GARLIC, ONION AND SHALLOT'}, {'_id': 'bef70072-88c9-48c0-9aff-804aaa747d32', 'SubCatalogName': 'GREEN LEAF'}, {'_id': 'ddd79418-23b1-47a1-a01f-4d2512e1081c', 'SubCatalogName': 'OTHER VEGETABLE LEAF'}, {'_id': 'ca5c186a-3ff7-415f-8939-a9a1408223a0', 'SubCatalogName': 'OTHER VEGETABLES'}, {'_id': 'b4eea71c-50af-45d7-87c8-fcc41c6b4fd8', 'SubCatalogName': 'POTATO'}, {'_id': 'ce1b048b-142a-404d-affe-0dea83cb0cc4', 'SubCatalogName': 'SALADS AND CHICORY'}, {'_id': '9ce70579-4d26-4236-ad61-185aee2427e5', 'SubCatalogName': 'SWEET POTATO'}, {'_id': '141df701-71d8-4414-b302-3cbd31bc0eaa', 'SubCatalogName': 'TOMATO'}, {'_id': '2b9bb075-6185-4d9a-a3dd-0c189e65b4e3', 'SubCatalogName': 'ORGANIC'}, {'_id': '17a753c1-fd73-4a96-871f-a1dd15ace7c3', 'SubCatalogName': 'VIETGAP'}, {'_id': '22e96904-6433-4ded-803f-689a4c0bc7c2', 'SubCatalogName': 'GLOBAL GAP'}], 'CatalogName': 'VEGETABLES'}, {'_id': '6689d732-f5d4-4a49-be43-9c556be16ff4', 'CatalogSubCatalogs': [{'_id': '889ff689-98e4-4169-994c-faa7b4260df7', 'SubCatalogName': 'APPLE AND PEARS'}, {'_id': '2b4d16e4-4cfa-43e5-93cf-d03d36835361', 'SubCatalogName': 'BANANA, KIWI AND GRAPES'}, {'_id': '78ff2f52-6013-428d-bc3c-790e560fd19a', 'SubCatalogName': 'CUTTING FRUITS'}, {'_id': '3f7371e8-f886-4252-b7fe-4f576c713886', 'SubCatalogName': 'LOCAL EXOTIC FRUITS'}, {'_id': 'a0761d09-9224-40ce-994a-baacd0a83e41', 'SubCatalogName': 'OTHER IMPORTED FRUITS'}, {'_id': '39b0790d-4908-4e21-a5c2-1321f9827188', 'SubCatalogName': 'OTHER LOCAL FRUITS'}], 'CatalogName': 'FRUITS'}, {'_id': '3a8fdac9-4b60-4533-b708-180c118e2cba', 'CatalogSubCatalogs': [], 'CatalogName': 'MEAT'}]\n",
      "[{'_id': '43429304-08e0-4d64-9fbe-7e7b4b8b3403', 'CatalogSubCatalogs': [{'_id': '5766f4aa-6702-4a8c-9a81-04d9c54088cc', 'SubCatalogName': 'FLAVORED MILK'}, {'_id': 'ff2ca58d-9952-4e74-8a80-749b1758457d', 'SubCatalogName': 'HAZELNUT MILK'}, {'_id': '7de5a67f-bc23-46c4-8703-07bf6a25e3b3', 'SubCatalogName': 'OAT MILK'}, {'_id': 'fd242c26-d7a7-4893-b4b4-470fdf7ddcd5', 'SubCatalogName': 'PLAIN MILK'}, {'_id': '101c25f4-9d86-40a3-8304-1ccad07aaffa', 'SubCatalogName': 'SEMI-SKIMMED MILK'}], 'CatalogName': 'FRESH MILK'}, {'_id': '16a515d1-36a4-4e65-b584-b1117fab7c8f', 'CatalogSubCatalogs': [{'_id': '0f1430fd-b088-4b39-aaec-be0e4fefa6a9', 'SubCatalogName': 'VIETGAP'}], 'CatalogName': 'EGGS'}, {'_id': 'f4c3a3b1-420c-4faf-9881-8747e5e2c320', 'CatalogSubCatalogs': [{'_id': 'd66da3ad-f996-43cc-966c-ef66fa063768', 'SubCatalogName': 'FRESH SWEET GRUEL'}, {'_id': 'a7ced512-03b5-439b-aef0-89b613d9fffd', 'SubCatalogName': 'OTHER FRESH DESSERT'}], 'CatalogName': 'DESSERTS'}]\n",
      "[{'_id': 'c1f7448c-7a5c-4f87-a0fe-8d856e7a8ac7', 'CatalogSubCatalogs': [], 'CatalogName': 'PASTA AND NOODLES'}, {'_id': '23b2f772-9bd5-4ed1-b105-03b0a528eea2', 'CatalogSubCatalogs': [], 'CatalogName': 'READY TO COOK'}, {'_id': '09398795-ace1-46ed-b919-75e4cbed096a', 'CatalogSubCatalogs': [{'_id': '86c9bd5f-8de1-43d6-a3a3-1588eafc0777', 'SubCatalogName': 'MEAL READY TO COOK'}, {'_id': '19bcb1fc-d19c-4b3a-a73a-1c001264c888', 'SubCatalogName': 'MEAL READY TO EAT'}, {'_id': 'e8cccdef-9e3a-4943-bc9f-5b71c2a7a51a', 'SubCatalogName': 'SALAD CRUDNESS DISH'}, {'_id': '3c343b8a-238e-4295-956d-455b1532f39d', 'SubCatalogName': 'GLUTEN FREE'}], 'CatalogName': 'DELICATESSEN'}]\n",
      "[{'_id': '1d8abd25-2c04-4f55-a52c-dbbe77ed6b5a', 'CatalogSubCatalogs': [], 'CatalogName': None}, {'_id': '1dae9203-9cd7-4ff4-aa85-fdaa1e7aede0', 'CatalogSubCatalogs': [{'_id': '2332a4b6-82b7-4ea1-8c49-56d5eb87f56a', 'SubCatalogName': 'ASIAN INSTANT NOODLES'}, {'_id': 'e182f369-ac88-4ac8-ab12-87d7d64ec16d', 'SubCatalogName': 'OTHER SOUP'}], 'CatalogName': 'SOUP & VERMICELLI'}, {'_id': '8b48e282-2135-4323-a4e1-b29bba1c21d2', 'CatalogSubCatalogs': [], 'CatalogName': 'BUTTER'}]\n",
      "[{'_id': 'a8038819-aad9-4059-a45f-cdc067c0a9c1', 'CatalogSubCatalogs': [], 'CatalogName': 'FLAVORS OF THE WORLD'}, {'_id': '1b9a269a-fbc2-40da-b08b-d11d5f2356c2', 'CatalogSubCatalogs': [{'_id': 'c5c5e2c3-36f4-437f-a9dc-7bf890d772a9', 'SubCatalogName': 'CHICKEN FLAVORED BOUILLON'}, {'_id': 'eacaf6e4-dddc-4ccf-bda0-0bada29d9faa', 'SubCatalogName': 'CHILI SEASONING'}, {'_id': 'c1c89173-5bf2-441a-95d6-eff6cc54dc1d', 'SubCatalogName': 'HERBALS & AROMATES'}, {'_id': '68073e15-f635-452d-8055-a6ba47aac760', 'SubCatalogName': 'OTHER FLAVORED BOUILLON'}, {'_id': '1be09b7d-e3f1-488f-bb26-54de537a0df7', 'SubCatalogName': 'OTHER SPICES'}, {'_id': '3896090a-6a9b-4b5b-bfa4-8a7ef0098715', 'SubCatalogName': 'PEPPER'}, {'_id': '4cb388cb-1971-4378-9111-a1c22a6b2d09', 'SubCatalogName': 'SPICES'}, {'_id': 'b4b9d4fb-f014-41f7-b34e-570992a882b2', 'SubCatalogName': 'GLOBAL GAP'}], 'CatalogName': 'SEASONING'}, {'_id': '6f79b66d-959c-43a4-b8e7-322ed0515760', 'CatalogSubCatalogs': [], 'CatalogName': 'DRIED VEGETABLES'}]\n",
      "[{'_id': '05f54d59-0146-4805-9e74-362020bb5fea', 'CatalogSubCatalogs': [], 'CatalogName': 'DRIED BEANS'}, {'_id': 'a40ec11f-37d5-41d2-b325-fefe9fb9be1a', 'CatalogSubCatalogs': [{'_id': '82b29964-b65d-46bf-9042-40d8b569e2a8', 'SubCatalogName': 'BALSAMIC VINEGAR'}, {'_id': '330b5666-c28f-4af2-aa68-940f8dfde11b', 'SubCatalogName': 'OLIVE OIL'}], 'CatalogName': 'OIL AND VINEGAR'}, {'_id': '1e5ce47a-f461-440d-98e2-4667ad9e2542', 'CatalogSubCatalogs': [{'_id': '0066e5e1-f553-4514-a933-7dbce0d53019', 'SubCatalogName': 'CANNED TOMATO'}, {'_id': 'c01c1459-f7b3-4d18-b2d6-e40776bbffd7', 'SubCatalogName': 'OTHER CANNED MEAT'}, {'_id': '6478e82f-83d4-487d-b3b9-42bcc93a711f', 'SubCatalogName': 'OTHER FISH'}, {'_id': '34040975-1dc8-470f-b86c-2998f6de1d4d', 'SubCatalogName': 'PATE & TERRINE'}, {'_id': '0989b29b-3798-44b5-9db8-f2af1e4c302f', 'SubCatalogName': 'PICKLED MIXED VEGETABLES'}, {'_id': '85fae15a-3339-47a3-af23-32e85cb6b52f', 'SubCatalogName': 'PICKLED ONION AND GARLIC'}], 'CatalogName': 'CANNED FOOD'}]\n",
      "[{'_id': 'c0c8c727-7846-4a2a-9d91-c4da36c8795e', 'CatalogSubCatalogs': [], 'CatalogName': 'PROCESSED DAIRY PRODUCTS'}, {'_id': 'e95c5f89-07e9-4018-b62d-230d7d30e5fa', 'CatalogSubCatalogs': [{'_id': '2321264e-9964-4748-a180-3433bd75974b', 'SubCatalogName': 'COFFEE BEANS'}, {'_id': 'd1ca6051-88a5-4520-88d7-1d90198fd494', 'SubCatalogName': 'GROUND ROASTED COFFEE'}, {'_id': '215d297d-38d7-41c3-acc3-22c79566e94d', 'SubCatalogName': 'INSTANT COFFEE'}, {'_id': '2c2d5f82-0d3b-4407-809d-5999f89141d4', 'SubCatalogName': 'OTHER HEALTH SUPPLEMENTS'}, {'_id': '83435c91-ad31-4f88-b3b0-eed26c5cc5a5', 'SubCatalogName': 'OTHER TEA'}], 'CatalogName': 'HOT AND COLD BREWS'}, {'_id': '9650ea79-ec0f-49b9-9284-aa7579f06930', 'CatalogSubCatalogs': [{'_id': 'b13463a8-0681-4242-9f3e-f4c576a97699', 'SubCatalogName': 'ALMONDS, MACADAMIA, WALNUTS'}, {'_id': 'a801307f-b6ad-4392-8a6b-5b8b40bc8f88', 'SubCatalogName': 'CASHEWS'}, {'_id': '107c6288-e093-4d90-ad04-9d4871f867ea', 'SubCatalogName': 'DRIED FRUITS'}, {'_id': 'c7a4461d-647c-4219-bacb-6d573ce02111', 'SubCatalogName': 'EXTRUDED'}, {'_id': 'fe70b811-9706-422d-bf68-c785741c9a21', 'SubCatalogName': 'MIX NUTS'}, {'_id': 'a4359747-8fb8-4da4-b7f4-afa6f469f799', 'SubCatalogName': 'OTHER DRIED FRUITS'}, {'_id': 'ae54e616-22b1-4722-889c-4f9588c7e9e1', 'SubCatalogName': 'OTHER SNACKS'}, {'_id': '8d8f9cc0-bece-4a7c-8c07-4af4cacb0196', 'SubCatalogName': 'POTATO CHIPS SACHES'}, {'_id': '62e8d871-4d90-45f4-9e95-f8084adde7d9', 'SubCatalogName': 'POTATO CHIPS TILES'}, {'_id': '7dc66ff4-8edb-4e99-9032-88bba7956953', 'SubCatalogName': 'SOFT DRIED FRUITS'}, {'_id': '0af569e8-8dc0-4029-98a1-03d562e7a41a', 'SubCatalogName': 'NON GMO'}, {'_id': '6ef74ed0-b951-4a53-be75-1591432315ed', 'SubCatalogName': 'GLUTEN FREE'}, {'_id': '11bf3f4c-2c8c-45bf-983b-3f0d227e85b1', 'SubCatalogName': 'IPG'}], 'CatalogName': 'SNACKS, NUTS AND DRIED FRUITS'}]\n",
      "[{'_id': '2ffc769f-3159-48bd-9544-2d17da35f3bb', 'CatalogSubCatalogs': [{'_id': '64c07329-cf0c-4250-8710-dcd42966a316', 'SubCatalogName': 'NATURAL EXTRACT AND AROMA'}, {'_id': '7e26063d-a476-4be8-9f68-385532d17822', 'SubCatalogName': 'OTHER FLOUR'}, {'_id': '026c6db0-37b5-498b-8476-fb2965bb0124', 'SubCatalogName': 'RICE FLOUR'}, {'_id': 'c730d648-9bc7-447a-9369-92cda3a18439', 'SubCatalogName': 'NON GMO'}, {'_id': 'ac5f95f7-b505-43d9-8382-394cb5d42c80', 'SubCatalogName': 'GLUTEN FREE'}], 'CatalogName': 'BAKING ESSENTIALS'}, {'_id': 'a3d2d5c6-5f70-45ed-ace7-608cd6e95dbc', 'CatalogSubCatalogs': [], 'CatalogName': 'CANNED FRUITS'}, {'_id': '9c3e2158-5e77-49c9-bc09-8e4cba7c659a', 'CatalogSubCatalogs': [], 'CatalogName': 'BREAKFAST'}]\n",
      "[{'_id': 'a1dcc4cf-b387-4cc9-9bcd-e47df1dc15dc', 'CatalogSubCatalogs': [{'_id': '88dcdef7-6234-4afd-a175-f9c91be86bc6', 'SubCatalogName': 'CHOCOLATE BAR'}, {'_id': '31c3c662-2c86-4760-82f7-ea7f4f67567d', 'SubCatalogName': 'CHOCOLATE BOXES'}, {'_id': '065dbde2-5f4c-4360-961a-d2a08b061c78', 'SubCatalogName': 'CHOCOLATE CONFECTIONARY'}, {'_id': 'c402d189-c928-461f-b871-80e5ef3b982a', 'SubCatalogName': 'DARK CHOCOLATE TABLET'}, {'_id': '217a3e41-159b-4507-b690-e02c0ce57d7f', 'SubCatalogName': 'HARD CANDIES'}, {'_id': '6f5cb6a9-f4a2-4b8c-a0ff-df3c4a59c7db', 'SubCatalogName': 'JELLY CANDIES'}, {'_id': '26f45dcf-d80d-42a2-90a0-f5264c1101f8', 'SubCatalogName': 'MILK CHOCOLATE TABLET'}, {'_id': 'de4df217-9b26-42dd-8d82-eb16d2bec496', 'SubCatalogName': 'SOFT CANDIES'}, {'_id': '860a7394-b8d2-4f0f-a669-0072951c85e8', 'SubCatalogName': 'SPECIAL CHOCOLATE TABLET'}, {'_id': '9b07c69f-e610-4d9e-aa5a-a87830544f2e', 'SubCatalogName': 'TRADITIONAL CANDIES'}, {'_id': '1c8084b9-e83c-4f5f-b049-cbe9aa22fe8c', 'SubCatalogName': 'WHITE CHOCOLATE TABLET'}], 'CatalogName': 'CHOCOLATE AND CONFECTIONERY'}, {'_id': '4ba10d46-8576-4cb9-85a7-a4d8a1a4d974', 'CatalogSubCatalogs': [], 'CatalogName': 'RICE'}, {'_id': '7fab8b8a-2842-4664-8846-34d41851a9e6', 'CatalogSubCatalogs': [], 'CatalogName': 'HOME FURNISHING AND DECORATION'}]\n",
      "[{'_id': 'b2b57f30-3f4a-4813-8598-b8ee0d9beccd', 'CatalogSubCatalogs': [], 'CatalogName': 'SWEET PASTRY'}, {'_id': '5e5dc580-9c39-4064-9b25-494feccbd07b', 'CatalogSubCatalogs': [{'_id': '5705041a-a8d1-4bf7-8f9f-bc5aca5a01d5', 'SubCatalogName': 'OTHER FRUITS JUICES'}, {'_id': 'dfbae430-2ebc-4e22-94ab-896d67cfda62', 'SubCatalogName': 'VEGGIE JUICE'}, {'_id': '443a1c06-8f53-4482-9ed9-c82015f4f4b8', 'SubCatalogName': 'ORGANIC'}], 'CatalogName': 'JUICES'}, {'_id': '5a603f18-3e71-4c50-ac92-85eb7bc253c7', 'CatalogSubCatalogs': [{'_id': '6a451bc9-7f6d-4054-b685-75b848257528', 'SubCatalogName': 'CHILI SAUCE'}, {'_id': '23f64f4b-d85b-4a8a-983b-4eeaf90e037d', 'SubCatalogName': 'FOREIGN SOYA SAUCE'}, {'_id': '17773dbe-3a52-4e2e-a68f-8c0672c9463f', 'SubCatalogName': 'MAYONNAISE'}, {'_id': '110a98ff-31d7-43f5-a6c8-ea76e0c289df', 'SubCatalogName': 'MUSTARD'}, {'_id': 'cb17df72-70d9-42f4-82b0-be5e4771593a', 'SubCatalogName': 'OTHER CHILI SAUCE'}, {'_id': '2ed619bc-9427-44d8-9150-f06679b98c78', 'SubCatalogName': 'OTHER SAUCE'}, {'_id': 'e71117d8-38d0-4e3c-9557-4020c4ffe768', 'SubCatalogName': 'SALAD DRESSINGS'}, {'_id': 'bc5ae90c-f1d0-4e4b-99da-f8f5a222f1e9', 'SubCatalogName': 'SATAY SAUCE'}, {'_id': '5b76ab02-94e8-451b-8d6d-566baf4742dc', 'SubCatalogName': 'SAUCE FOR HOT POT'}, {'_id': '880e788e-eef3-4bad-ac12-991df7a87d02', 'SubCatalogName': 'SPAGHETTI PASTA SAUCE'}, {'_id': 'f5e51875-f24b-4356-91eb-d5dbec43ff8e', 'SubCatalogName': 'TOMATO SAUCE'}, {'_id': 'c0f0ef1a-6a97-46d6-8bbb-c7eb484278c4', 'SubCatalogName': 'TRADITIONAL SOYA SAUCE'}], 'CatalogName': 'SAUCE AND CONDIMENTS'}]\n",
      "[{'_id': '944219ba-244b-4f46-84d7-fadec10d102a', 'CatalogSubCatalogs': [], 'CatalogName': 'SYRUP'}, {'_id': 'b682a0f3-d429-4b80-ab68-3b702479da8d', 'CatalogSubCatalogs': [{'_id': '86e38946-1bba-4222-98f2-cfd980479b72', 'SubCatalogName': 'BRIOCHE'}, {'_id': '91126aff-2a66-4e13-8994-d29c2971a7e4', 'SubCatalogName': 'OTHER VIENNOISERIES'}, {'_id': '5d69b630-8eb8-4af4-8508-37bd86119135', 'SubCatalogName': 'PAIN AU CHOCOLAT'}, {'_id': '98d16084-d186-4121-9154-e854706ea106', 'SubCatalogName': 'PAIN AU RAISIN'}], 'CatalogName': 'VIENNOISERIE'}]\n"
     ]
    }
   ],
   "source": [
    "def group_catalog_by_step(cursor_catalogs: Cursor, group_size: int = 3) -> list(list()):\n",
    "    \"\"\"Group catalogs by step. Return a list of (group or list of catalogs).\"\"\"\n",
    "    # set up\n",
    "    grouped_catalogs_list = [] # result list\n",
    "    group = [] # group of 3 catalogs is a list\n",
    "    step = 0\n",
    "\n",
    "    #each iter, add catalog to group\n",
    "    #after 3 iter, add group to grouped_catalogs_list and reset group\n",
    "    for catalog in cursor_catalogs:\n",
    "        step += 1\n",
    "        group.append(catalog)\n",
    "        if step == group_size:\n",
    "            grouped_catalogs_list.append(group)\n",
    "            group = []\n",
    "            step = 0\n",
    "\n",
    "    # if the last group is not empty, add it to grouped_catalogs_list (step is not == 3)\n",
    "    if step != 0:\n",
    "        grouped_catalogs_list.append(group)\n",
    "    return grouped_catalogs_list\n",
    "\n",
    "group_list = group_catalog_by_step(cursor_catalogs)\n",
    "for group in group_list:\n",
    "    print(group)"
   ]
  },
  {
   "cell_type": "code",
   "execution_count": 8,
   "metadata": {},
   "outputs": [
    {
     "name": "stdout",
     "output_type": "stream",
     "text": [
      "[['424cb419-aa6a-4a07-9a83-fbf167864554', 'db0288e7-4bb4-4ccb-b825-df9108d9e71b', 'b3f4697b-ee01-4023-9cde-82ce5fe4a6ca'], ['1ebd3790-886b-43d3-9cf0-9117ff79e985', 'bfa80fd9-713a-47bf-b0a1-c8f4976e0b2d', 'a58e80d2-0dc3-4127-84da-2501316ed1f4'], ['6f6d708a-5575-4532-ac2e-92a9d2c2f72e', '59958d90-e0ff-4fb3-9451-32f76076f03e', '7c295f25-d5b0-4032-9288-d7c35bb06a57'], ['da7493e6-b0ce-473f-9953-99cdd82d164a', '1a88d3f8-1aea-4563-9eca-1dfee6f08f13', 'c3371be9-4fda-4290-8e74-59a91379f882'], ['1917a3f7-f787-462d-9d35-c8e5c5a3627e', '462e5e7c-e7b4-4f60-aeb8-e3ff76a288fa', 'a7c3b0f5-d729-4875-9790-f452285cb17c'], ['cb564bd5-257a-4b48-b125-5931abd991b7', '02fb57d0-eb55-4f9e-8738-8f126fac7348', 'f32e2fb4-6cfa-41bc-bdd8-f742488f52b0'], ['1def499d-adcf-4469-aa5f-56c760fa4958', 'c51fc97e-809a-43e6-80ee-7746f41f050d', '65411e8e-24dc-478e-9de9-1953328d5979'], ['b6fb5318-c632-43e9-9719-4b4c972e3c67', 'ff893325-de64-4956-a2ea-1f0b630d60ab', '1383b8d7-c1d0-415f-a9de-855fc7b96321'], ['b39d9cf8-c0c5-43cd-b0e1-079bfb50ec23', 'a0c11331-54c8-4c1c-8aff-0415c98aaa15', 'd4289f80-8cda-4f63-9610-32fdd03fa39d'], ['fa5a70e3-19df-412b-b869-cc074cad91ac', '5b77c5e2-58dd-425d-b24c-f9520f6cfba4', '8c03fc5a-33b0-49b0-8279-18e710732d68'], ['2adaf175-9789-4640-bf7a-e61c5ac41b11', '7314277f-a1c4-46aa-bde6-4b4235ea1c29', '8df64690-f96b-4aeb-8b64-30131fa0a92a'], ['7ec08204-3b42-4305-9fe2-8b19df320ece', '70fc07c5-238b-4fd8-9e3b-8098e2df93ed', '454247eb-5e6b-4470-8576-4c49ff4138ad'], ['2803646a-2c5e-46cd-b203-eff147fdf7f8', '37220eba-f040-40e0-a8c2-b2949a137e53', '8b66d05e-2952-4bbc-bfd7-8798aaf98f6e'], ['4faecd43-959b-4856-b204-efb1a7b34b91', '64e60adf-7a19-453d-948a-ec0c20f3bbd7', '20dcd5fb-6bd6-4498-a614-780c088cef9e'], ['0ee689f2-851e-437c-8940-c683347f415d', '6689d732-f5d4-4a49-be43-9c556be16ff4', '3a8fdac9-4b60-4533-b708-180c118e2cba'], ['43429304-08e0-4d64-9fbe-7e7b4b8b3403', '16a515d1-36a4-4e65-b584-b1117fab7c8f', 'f4c3a3b1-420c-4faf-9881-8747e5e2c320'], ['c1f7448c-7a5c-4f87-a0fe-8d856e7a8ac7', '23b2f772-9bd5-4ed1-b105-03b0a528eea2', '09398795-ace1-46ed-b919-75e4cbed096a'], ['1d8abd25-2c04-4f55-a52c-dbbe77ed6b5a', '1dae9203-9cd7-4ff4-aa85-fdaa1e7aede0', '8b48e282-2135-4323-a4e1-b29bba1c21d2'], ['a8038819-aad9-4059-a45f-cdc067c0a9c1', '1b9a269a-fbc2-40da-b08b-d11d5f2356c2', '6f79b66d-959c-43a4-b8e7-322ed0515760'], ['05f54d59-0146-4805-9e74-362020bb5fea', 'a40ec11f-37d5-41d2-b325-fefe9fb9be1a', '1e5ce47a-f461-440d-98e2-4667ad9e2542'], ['c0c8c727-7846-4a2a-9d91-c4da36c8795e', 'e95c5f89-07e9-4018-b62d-230d7d30e5fa', '9650ea79-ec0f-49b9-9284-aa7579f06930'], ['2ffc769f-3159-48bd-9544-2d17da35f3bb', 'a3d2d5c6-5f70-45ed-ace7-608cd6e95dbc', '9c3e2158-5e77-49c9-bc09-8e4cba7c659a'], ['a1dcc4cf-b387-4cc9-9bcd-e47df1dc15dc', '4ba10d46-8576-4cb9-85a7-a4d8a1a4d974', '7fab8b8a-2842-4664-8846-34d41851a9e6'], ['b2b57f30-3f4a-4813-8598-b8ee0d9beccd', '5e5dc580-9c39-4064-9b25-494feccbd07b', '5a603f18-3e71-4c50-ac92-85eb7bc253c7'], ['944219ba-244b-4f46-84d7-fadec10d102a', 'b682a0f3-d429-4b80-ab68-3b702479da8d']]\n"
     ]
    }
   ],
   "source": [
    "# list (of all group) of list of each group catalog ids\n",
    "get_catalog_ids_list_lambda = lambda group: [catalog['_id'] for catalog in group]\n",
    "catalog_ids_a_group_list = [get_catalog_ids_list_lambda(group) for group in group_list]\n",
    "print(catalog_ids_a_group_list)"
   ]
  },
  {
   "cell_type": "code",
   "execution_count": 10,
   "metadata": {},
   "outputs": [
    {
     "name": "stdout",
     "output_type": "stream",
     "text": [
      "['0b17000d-af19-455f-b0e4-71ddd8da113d', 'db6d3c8e-8ec2-4607-ae75-437c35aac3dc']\n"
     ]
    }
   ],
   "source": [
    "def get_catalog_subcatalog_id_list(catalog: object) -> list():\n",
    "    \"\"\"Get list of sub catalog ids of each catalog.\"\"\"\n",
    "    catalog_sub_catalog_id_list = []\n",
    "    for sub_catalog in catalog['CatalogSubCatalogs']:\n",
    "        catalog_sub_catalog_id_list.append(sub_catalog['_id'])\n",
    "    return catalog_sub_catalog_id_list\n",
    "\n",
    "catalog = catalog_collection.find_one({'_id': 'db0288e7-4bb4-4ccb-b825-df9108d9e71b'})\n",
    "catalog_sub_catalog_id_list = get_catalog_subcatalog_id_list(catalog)\n",
    "print(catalog_sub_catalog_id_list)"
   ]
  },
  {
   "cell_type": "code",
   "execution_count": 11,
   "metadata": {},
   "outputs": [
    {
     "name": "stdout",
     "output_type": "stream",
     "text": [
      "[{'productId': 'a490f4e0-25bc-4e7c-83b9-c5806e7312a5', 'productModelId': '4d2aac8a-e35e-4cfc-a7fd-25b539f90448', 'businessKey': 'ac141966-5b6e-4c9d-96f0-6b1351105d40', 'unitRequestPrice': 0}, {'productId': '03aed8c9-2643-4c97-8940-85fd0ae347f6', 'productModelId': 'caadb567-cbdf-41ed-8ec2-9d9766424d32', 'businessKey': 'dfd9682b-ac57-498e-90a2-536449cd651d', 'unitRequestPrice': 0}, {'productId': 'acc94c65-b2fc-4966-bf4a-3b7e3a60f72b', 'productModelId': '82bceb35-47fc-4c56-a67b-88bdb6621c3f', 'businessKey': '7efc4829-63e1-4368-b5b7-8f555b4d3576', 'unitRequestPrice': 0}, {'productId': 'b12b85bb-6de1-4179-8791-13b3c29d9fc5', 'productModelId': 'f7326036-a116-4368-b3f9-23edd5b1c092', 'businessKey': '4ba82d02-289f-4817-8ce2-069b51c5da87', 'unitRequestPrice': 0}, {'productId': 'a2f27267-6392-4e08-8d9e-563e6c1f58d7', 'productModelId': '0110c081-13bd-45c1-bd09-d63d2a88978b', 'businessKey': '33c15056-c38c-42ad-bb83-03f2e605c1f7', 'unitRequestPrice': 0}, {'productId': '32abd085-75a1-4211-af06-69d5f098c5e9', 'productModelId': 'dc80cffb-15ef-48b7-af01-58977b6242d8', 'businessKey': '0006acc2-97aa-4a8a-8740-a55b6afe691d', 'unitRequestPrice': 0}, {'productId': 'b9eaf83a-a4e6-466e-8ec4-64a17bc06af1', 'productModelId': '106587a9-64de-402b-b0ce-7aa995ef4ec8', 'businessKey': 'cae2a8f6-9b3e-4d49-8a20-f7a42bd055f3', 'unitRequestPrice': 0}]\n",
      "[]\n",
      "[]\n",
      "[{'productId': '8b118261-a9df-4337-abf9-7c8ed20cb895', 'productModelId': 'f855a64d-72bb-43f4-88db-697a6ef052dc', 'businessKey': '93293c20-1db9-4dd5-a2fd-b3c1396356ba', 'unitRequestPrice': 0}, {'productId': 'bd08b8cf-56d5-4f98-b482-3200c5f96f51', 'productModelId': 'ddd00e1c-2dde-4ade-9787-cc58237b1cd1', 'businessKey': 'e24ffe6e-c60a-4c6c-9039-41c2cf37e178', 'unitRequestPrice': 0}, {'productId': '980bb63f-d066-438c-9555-891796190d83', 'productModelId': '05ced1ef-55be-4be8-acc2-41c90359fd13', 'businessKey': '92beab80-034e-4320-8d35-9c96c14f9a71', 'unitRequestPrice': 0}, {'productId': 'f8520668-87c5-49bf-b793-3665af29ba2e', 'productModelId': '93b7596f-95fa-435a-b122-4d55d6dbf718', 'businessKey': '004f37b4-ddf7-456f-b6b8-bcce3b3e6394', 'unitRequestPrice': 0}]\n",
      "[]\n",
      "[]\n",
      "[]\n",
      "[]\n",
      "[{'productId': '221c6de7-158f-4a1d-afda-b608cbd17a4d', 'productModelId': 'd2d9572c-2145-4da6-a91b-01e80f539619', 'businessKey': '32b495d9-bc8f-48e7-9364-41e54f8c8d6e', 'unitRequestPrice': 0}, {'productId': '0f9f123f-2ffb-4fcb-85cf-54e3c245ab7f', 'productModelId': 'b4f7c56a-d6a8-4419-9887-6bf09e57d266', 'businessKey': '92e28962-cdc4-4182-a31c-4c7a922c3ace', 'unitRequestPrice': 0}, {'productId': 'ad6a322e-f1b7-405e-88a5-6cfeb1384c5c', 'productModelId': '2003b94b-5025-4d40-bf05-4ad0d9da8fba', 'businessKey': 'a3162df0-a8b5-4036-9950-e7f5d446eeb2', 'unitRequestPrice': 0}]\n",
      "[{'productId': 'eedddd1d-cef1-4228-a4cf-59ae922a5f77', 'productModelId': 'b28bef18-3d9a-4222-ab69-447cb463ed80', 'businessKey': 'e9ac8ddd-f757-41a1-8b7a-0fe8f8297d7b', 'unitRequestPrice': 0}]\n",
      "[]\n",
      "[{'productId': '92ebd1f2-129c-4dd7-8068-3678b11b5c27', 'productModelId': 'b7951974-dc87-4b47-b900-cf264be2b047', 'businessKey': 'eda3a69e-1ca6-4a1d-a4ec-912b103ae845', 'unitRequestPrice': 0}]\n",
      "[]\n",
      "[{'productId': 'd77e63e0-2ac3-42c8-a581-3d1a1eec8f4e', 'productModelId': '5f5655bc-00a3-45db-b1e6-5fc440ac34d4', 'businessKey': '34b99470-84cf-4f14-8509-92dab539ba7c', 'unitRequestPrice': 0}, {'productId': 'f36ff669-25b2-4242-9b97-8541a7b17b1e', 'productModelId': 'c8c4a60a-e406-44b9-b22e-ab0ae370ce77', 'businessKey': '80d3aa2f-23d6-4f6b-a022-14d82f11b99b', 'unitRequestPrice': 0}, {'productId': 'de08d51b-ec54-434c-9c95-612fbf96a65f', 'productModelId': 'f2db9421-ab4a-4ff2-89e6-6909b9f4a819', 'businessKey': '328550b6-8c33-44e2-88c2-131d74d071fb', 'unitRequestPrice': 0}]\n",
      "[]\n",
      "[{'productId': '74729a01-d004-4b09-95cf-258878056f77', 'productModelId': '5031e982-c0f1-49b4-9687-a26f5416e7ce', 'businessKey': 'db076d73-2e2a-474a-8ac9-ad8d0be7d1d9', 'unitRequestPrice': 0}, {'productId': '028d6bba-692d-44d8-a609-401bae56b74a', 'productModelId': 'e16855b0-c95d-4621-b6a4-4d8b4d03107a', 'businessKey': 'a58a97ff-c736-443a-936c-bc57920b731d', 'unitRequestPrice': 0}, {'productId': '56feec18-b12d-48e3-a863-383bd9756bf8', 'productModelId': '184d63a2-8e5a-4309-a13e-b4b3dd2c7df5', 'businessKey': '9837a926-1a5e-43b2-b880-11a60b4d3c8c', 'unitRequestPrice': 0}, {'productId': '8dbec782-dc34-4507-9bd7-550e12fce08e', 'productModelId': 'eaae47d3-f0a6-4f42-98d0-75f57394a039', 'businessKey': 'a0944bd0-0ba8-4e66-b18f-e1ecf3209a68', 'unitRequestPrice': 0}, {'productId': '1d4f0370-9200-4717-af30-1dccbf92fcc6', 'productModelId': '9516195a-163e-4e49-9575-87f994f645d9', 'businessKey': '187d1179-d1d2-4690-9c39-11045b019ffa', 'unitRequestPrice': 0}]\n",
      "[]\n",
      "[]\n",
      "[{'productId': '0e5c419f-faa8-43ec-8f01-613df8831eb8', 'productModelId': '81191db3-e4ea-4948-b671-91b01499af4a', 'businessKey': 'e0549df5-3e2c-4ab5-8de4-2031e6951079', 'unitRequestPrice': 0}, {'productId': '47fe3ec3-d9ef-4bd5-82fc-cffae933774e', 'productModelId': 'a8447108-ac85-44a9-877c-161e4f415bb5', 'businessKey': '892380f7-41ff-4d8a-9d21-23ceae65bae9', 'unitRequestPrice': 0}, {'productId': 'cbb40e8f-749a-4581-a246-687f970e2754', 'productModelId': '1d5b81ce-4c3d-43ad-89d3-0d2d21620d3e', 'businessKey': '3028a514-c683-4759-9ded-8c96172e80f9', 'unitRequestPrice': 0}, {'productId': '86b70760-03da-4d4e-9e66-6d7e4e9eda64', 'productModelId': 'aeaececa-7571-45af-90b6-4e111f79b60d', 'businessKey': 'b7933366-bb89-40d9-ad05-679a7c87e45f', 'unitRequestPrice': 0}, {'productId': '446ed937-7af9-469e-baca-75317a7cb5cd', 'productModelId': '6526fbb9-757e-4cc6-ba91-45ab08382950', 'businessKey': 'c7b18458-b306-4e5d-a7ba-c31a4b2041a7', 'unitRequestPrice': 0}]\n",
      "[{'productId': '4de4f0a3-4197-46aa-9bee-cbc5566ce032', 'productModelId': '1e4571b5-8103-4a41-a60c-b5f25afd4555', 'businessKey': '45bca688-ae4f-41f6-b764-ca4921359748', 'unitRequestPrice': 0}, {'productId': 'be63e998-e604-4c73-a960-681d1100ec27', 'productModelId': '78586825-c013-4bb8-a276-0bb89173f6df', 'businessKey': 'baf7b472-cf3f-4d3b-88d2-808ea674bba8', 'unitRequestPrice': 0}, {'productId': '66c56173-59fe-40f3-abd6-bcb4fe2b50a9', 'productModelId': '693c2e2e-49c1-43b0-9640-5b923e01b169', 'businessKey': '2fbae031-0159-4c3a-ac73-c5018e4d1113', 'unitRequestPrice': 0}, {'productId': '7f5295c0-ea45-43da-b3fc-8c29b733eb6d', 'productModelId': 'f3d69e57-1fe7-462f-9468-d60929eb4c20', 'businessKey': 'c9ba6448-fb9f-464e-9814-1c72735663c2', 'unitRequestPrice': 0}]\n",
      "[{'productId': 'cad4d98d-976d-4df1-9433-f11f9047c0f4', 'productModelId': '96c3fa67-e32c-4805-ba19-298a4e8a5c8b', 'businessKey': 'fe90c714-21be-4477-8efe-b8116eedbcc8', 'unitRequestPrice': 0}, {'productId': '7179da60-b6bf-4504-9716-5a38a83fd6fe', 'productModelId': '1dd4f2e5-4629-4844-bd17-ae80e0c859a1', 'businessKey': 'e4711ebb-1744-49e4-99f6-960a85dd19c9', 'unitRequestPrice': 0}, {'productId': 'f74d2279-4e1c-4d27-b819-6fd3cbf45bb4', 'productModelId': 'f04023b0-a9d6-41c2-b826-bef11e720178', 'businessKey': 'fc0c4867-826b-449c-a3ff-422f51724094', 'unitRequestPrice': 0}, {'productId': '03573339-e321-472c-88ff-950a2cd37ea9', 'productModelId': '141492bf-096d-4393-8951-3ae0cc82d619', 'businessKey': '9d3d70e3-5f31-4221-83c1-b86d3de06f13', 'unitRequestPrice': 0}, {'productId': '3f5fb1be-c4b6-42f8-abe3-e5c53aa6b82c', 'productModelId': 'c10cd068-9bed-476f-aa59-9621ab12e788', 'businessKey': '644b9fef-ef4b-4c9f-ba6a-0c7ed308b3d6', 'unitRequestPrice': 0}, {'productId': '692bd12c-cd9f-4f68-8874-6d521e8b0b13', 'productModelId': '44a4b870-b6e7-4e46-8568-fadaf4afab31', 'businessKey': 'bc856e9c-9090-48ac-8b47-70153053b029', 'unitRequestPrice': 0}, {'productId': 'd21e000f-8e1a-4527-b043-7c33aab131f7', 'productModelId': 'b02851d2-4890-4e8b-a499-f737770d0d49', 'businessKey': '7d86e400-267b-49a5-8563-48b696843a80', 'unitRequestPrice': 0}, {'productId': '2eb10c5c-9ee7-41b8-ba1e-d7782d403068', 'productModelId': '905fbd08-3d96-4de1-ab6f-ca78f25bc887', 'businessKey': '60643122-bcf7-4693-997c-f4ae95b41a57', 'unitRequestPrice': 0}, {'productId': '64b6bd52-efb9-4d62-9bf5-268f4c09673c', 'productModelId': 'f471d0f8-9315-4744-ad9e-b89705b51b6f', 'businessKey': '7175e878-eba6-4868-ab6d-6585a5c6fd5a', 'unitRequestPrice': 0}, {'productId': '1ed16f11-3830-4d1c-b479-e3af96674ff5', 'productModelId': 'd3f5828a-6164-4118-ad27-6d477c71fbaf', 'businessKey': 'b98ebb10-5531-4020-8d23-a6792f388be7', 'unitRequestPrice': 0}, {'productId': '153f9e12-27ac-401e-815a-9cc37ef907c9', 'productModelId': '2fc2790b-e392-41e4-86ff-0a1e383a447e', 'businessKey': 'b255e9ca-b661-4fe2-83e8-05cbd147bd27', 'unitRequestPrice': 0}]\n",
      "[]\n",
      "[{'productId': '763157af-b191-4776-a21f-afce770d9265', 'productModelId': '46a04313-b23e-462f-8157-7e9d013c6566', 'businessKey': '0b70a4c1-09e1-4128-bf16-8666712f4a0a', 'unitRequestPrice': 0}, {'productId': 'd3aa3035-657d-4bae-9a18-aecb4400395d', 'productModelId': 'b118c6bd-ab84-4f6b-9d8a-48e16c54ecc9', 'businessKey': '7420b0a5-0abd-400a-9b6d-ae25c041d18a', 'unitRequestPrice': 0}, {'productId': '37ee0d5b-0297-4424-86b7-bde8ea9a238d', 'productModelId': '5e2a439b-a763-4609-b9df-b668722c4775', 'businessKey': '70eb5895-19e7-48cc-9751-7c5d4851ee32', 'unitRequestPrice': 0}, {'productId': '30418447-0a12-4843-b847-5bd2715e8a3e', 'productModelId': 'c6fa5714-90f2-40f0-965c-31728dfd5860', 'businessKey': '7fee9cef-75c7-4abe-bb72-548bdb198be6', 'unitRequestPrice': 0}, {'productId': '0440f9a8-ccd0-45e7-838e-d475eb1839c3', 'productModelId': '27a3ee9a-fcc1-4f0d-8581-3f658ee9e46f', 'businessKey': '312216e8-39e7-4948-8205-f1b3d881f081', 'unitRequestPrice': 0}, {'productId': '7e5632d0-dfc8-4320-bbb6-9c80354780c5', 'productModelId': 'e5929544-a6e4-48da-978c-cbdaf7946276', 'businessKey': '77496663-6e76-4494-9104-a84a79b6cf82', 'unitRequestPrice': 0}, {'productId': 'a7ba0ecf-bbbb-43cc-bfa1-cda6be28364c', 'productModelId': '4e6a39c1-93a8-4602-9f05-9c81ce9e2aef', 'businessKey': '77c1a40f-6ca5-4d18-a741-eca7dc734820', 'unitRequestPrice': 0}, {'productId': '637caf26-600f-4e8c-baa8-01a89b2d6f9f', 'productModelId': '2618411b-8311-4fc4-a0d1-d60b37f06aa9', 'businessKey': 'c2bc8cc7-cf10-44d8-8f25-e64920863b9d', 'unitRequestPrice': 0}, {'productId': '2157a1c1-05e6-4a81-9625-6e5f6090f12c', 'productModelId': 'c0dbbfa0-ad36-49e5-bfd1-c5a333b6c9df', 'businessKey': 'e44b879c-ce21-43ce-8c8c-06bc2ba83570', 'unitRequestPrice': 0}]\n",
      "[{'productId': '47651a14-d882-4139-8088-e47f3bddfec8', 'productModelId': '5b6404d6-e320-4424-9aab-6c570eb0e9a1', 'businessKey': '615ef705-ab8c-45bc-b6d5-143189c0b9fa', 'unitRequestPrice': 0}, {'productId': 'eef012df-b300-4c33-9fc3-9323a4d1515f', 'productModelId': 'a862baea-f0a7-48d6-a269-6c5620bc30de', 'businessKey': '09e898b7-40ad-49f8-9da2-79ef7b520917', 'unitRequestPrice': 0}, {'productId': '6fed75e6-5b25-4124-8ea3-90afc1b86955', 'productModelId': '8cd1e7cc-22e4-4b63-8898-3a6d71061d9a', 'businessKey': '9e6e5757-873f-4509-90ab-fdbdae0fa850', 'unitRequestPrice': 0}, {'productId': '5f975abf-1bf5-4470-8c5a-bb3b038b8305', 'productModelId': '52003b3c-c665-4889-9277-dda1a82c52a6', 'businessKey': 'd00ca6f8-0e09-44f4-9ba4-0a0618c17ea5', 'unitRequestPrice': 0}, {'productId': '400d4921-08aa-47da-b0b5-d073c0b7e024', 'productModelId': '4ab93f57-0499-4d30-b162-779831474e4d', 'businessKey': '4a016e5f-bf58-40b2-b0d8-4ff069a86f94', 'unitRequestPrice': 0}, {'productId': '139b3658-44a2-4c4c-8ce1-377cdd4acc71', 'productModelId': '624063ae-8624-4835-85c6-c6e0d712ecf6', 'businessKey': '1ea4e4db-ea0e-4f0f-bc80-dfa7e27643f4', 'unitRequestPrice': 0}, {'productId': '967f6373-3470-4139-a8d3-a99eaf904976', 'productModelId': 'b8074c74-7239-404d-8d21-691886664dc0', 'businessKey': 'b50b79ff-53ba-408d-9ca6-7b8f269651c5', 'unitRequestPrice': 0}]\n",
      "[]\n"
     ]
    }
   ],
   "source": [
    "# Find all product of belong to a subcatalog (HAVE subcatalog_id) to list of object (product id, product model id, product business key)\n",
    "def get_product_meta_list_a_subcatalog(subcatalog_id: str) -> list():\n",
    "    product_meta_list_a_subcatalog = []\n",
    "    product_cursor_of_subcatalog = product_collection.find({'SubCatalogId': subcatalog_id})\n",
    "    for product in product_cursor_of_subcatalog:\n",
    "        product_meta_list_a_subcatalog.append({\n",
    "            'productId': product['_id'],\n",
    "            'productModelId': product['ProductModels'][0]['_id'],\n",
    "            'businessKey': product['BusinessKey'],\n",
    "            'unitRequestPrice': 0\n",
    "        })\n",
    "    return product_meta_list_a_subcatalog\n",
    "\n",
    "# From get_product_meta_list_a_subcatalog, get list of product meta of all subcatalogs of catalog in a group.\n",
    "def get_product_meta_list_a_group(subcatalog_id_list_a_group: str) -> list():\n",
    "    if subcatalog_id_list_a_group == []:\n",
    "        return []\n",
    "    product_meta_list_a_group = []\n",
    "    for subcatalog_id in subcatalog_id_list_a_group:\n",
    "        product_meta_list_a_subcatalog = get_product_meta_list_a_subcatalog(subcatalog_id)\n",
    "        product_meta_list_a_group.extend(product_meta_list_a_subcatalog)\n",
    "    return product_meta_list_a_group\n",
    "\n",
    "# Get list of sub catalog ids of every catalog in a group\n",
    "def get_subcatalog_id_list_a_group(group: list()) -> list(list()):\n",
    "    subcatalog_id_list_a_group = []\n",
    "    for catalog in group:\n",
    "        catalog_subcatalog_id_list = get_catalog_subcatalog_id_list(catalog)\n",
    "        subcatalog_id_list_a_group.extend(catalog_subcatalog_id_list)\n",
    "    return subcatalog_id_list_a_group\n",
    "\n",
    "# group is a list of catalog objects\n",
    "# group_list is a list of all groups\n",
    "for group in group_list:\n",
    "    subcatalog_id_list_a_group = get_subcatalog_id_list_a_group(group)\n",
    "    # print(subcatalog_id_list_a_group)\n",
    "    product_meta_list_a_group = get_product_meta_list_a_group(subcatalog_id_list_a_group)\n",
    "    print(product_meta_list_a_group)"
   ]
  },
  {
   "cell_type": "markdown",
   "metadata": {},
   "source": [
    "### Now is for real"
   ]
  },
  {
   "cell_type": "code",
   "execution_count": 2,
   "metadata": {},
   "outputs": [],
   "source": [
    "def group_catalog_by_step(cursor_catalogs: Cursor, group_size: int = 3) -> list(list()):\n",
    "    \"\"\"Group catalogs by step. Return a list of (group or list of catalogs).\"\"\"\n",
    "    grouped_catalogs_list = []\n",
    "    group = [] # group of 3 catalogs is a list\n",
    "    step = 0\n",
    "\n",
    "    #each iter, add catalog to group\n",
    "    #after 3 iter, add group to grouped_catalogs_list and reset group\n",
    "    for catalog in cursor_catalogs:\n",
    "        step += 1\n",
    "        group.append(catalog)\n",
    "        if step == group_size:\n",
    "            grouped_catalogs_list.append(group)\n",
    "            group = []\n",
    "            step = 0\n",
    "\n",
    "    # if the last group is not empty, add it to grouped_catalogs_list (step is not == 3)\n",
    "    if step != 0:\n",
    "        grouped_catalogs_list.append(group)\n",
    "    return grouped_catalogs_list\n",
    "\n",
    "get_catalog_ids_list_in_group_lambda = lambda group: [catalog['_id'] for catalog in group]\n",
    "get_catalog_names_list_in_group_lambda = lambda group: [catalog['CatalogName'] for catalog in group if catalog['CatalogName'] != None]\n",
    "\n",
    "def get_catalog_subcatalog_id_list(catalog: object) -> list():\n",
    "    \"\"\"Get list of sub catalog ids of each catalog.\"\"\"\n",
    "    catalog_sub_catalog_id_list = []\n",
    "    for sub_catalog in catalog['CatalogSubCatalogs']:\n",
    "        catalog_sub_catalog_id_list.append(sub_catalog['_id'])\n",
    "    return catalog_sub_catalog_id_list\n",
    "\n",
    "def get_product_meta_list_a_subcatalog(subcatalog_id: str) -> list():\n",
    "    \"\"\"\n",
    "        Find all product of belong to a subcatalog (HAVE subcatalog_id) \n",
    "        to list of object (product id, product model id, product business key)\n",
    "    \"\"\"\n",
    "    product_meta_list_a_subcatalog = []\n",
    "    product_cursor_of_subcatalog = product_collection.find({'SubCatalogId': subcatalog_id})\n",
    "    for product in product_cursor_of_subcatalog:\n",
    "        product_meta_list_a_subcatalog.append({\n",
    "            'productId': product['_id'],\n",
    "            'productModelId': product['ProductModels'][0]['_id'],\n",
    "            'businessKey': product['BusinessKey'],\n",
    "            'unitRequestPrice': 0\n",
    "        })\n",
    "    return product_meta_list_a_subcatalog\n",
    "\n",
    "def get_subcatalog_id_list_a_group(group: list()) -> list(list()):\n",
    "    \"\"\"Get list of sub catalog ids of every catalog in a group.\"\"\"\n",
    "    subcatalog_id_list_a_group = []\n",
    "    for catalog in group:\n",
    "        catalog_subcatalog_id_list = get_catalog_subcatalog_id_list(catalog)\n",
    "        subcatalog_id_list_a_group.extend(catalog_subcatalog_id_list)\n",
    "    return subcatalog_id_list_a_group  \n",
    "\n",
    "def get_product_meta_list_a_group(subcatalog_id_list_a_group: str) -> list():\n",
    "    \"\"\"From get_product_meta_list_a_subcatalog, get list of product meta of all subcatalogs of catalog in a group.\"\"\"\n",
    "    if subcatalog_id_list_a_group == []:\n",
    "        return []\n",
    "    product_meta_list_a_group = []\n",
    "    for subcatalog_id in subcatalog_id_list_a_group:\n",
    "        product_meta_list_a_subcatalog = get_product_meta_list_a_subcatalog(subcatalog_id)\n",
    "        product_meta_list_a_group.extend(product_meta_list_a_subcatalog)\n",
    "    return product_meta_list_a_group "
   ]
  },
  {
   "cell_type": "code",
   "execution_count": 3,
   "metadata": {},
   "outputs": [],
   "source": [
    "from uuid import uuid4\n",
    "\n",
    "post_request_payload = []\n",
    "cursor_catalogs = catalog_collection.find({})\n",
    "group_catalogs_list = group_catalog_by_step(cursor_catalogs)\n",
    "for group in group_catalogs_list:\n",
    "    available_provider_catalog_ids = get_catalog_ids_list_in_group_lambda(group)\n",
    "    catalog_names_list_a_group = get_catalog_names_list_in_group_lambda(group)\n",
    "    provider_name_a_group = ' - '.join(catalog_names_list_a_group)    \n",
    "    provider_name_a_group = 'PROVIDER FOR ' + provider_name_a_group\n",
    "    subcatalog_id_list_a_group = get_subcatalog_id_list_a_group(group)\n",
    "    product_meta_list_a_group = get_product_meta_list_a_group(subcatalog_id_list_a_group)\n",
    "    if product_meta_list_a_group == []:\n",
    "        continue\n",
    "\n",
    "    # print(available_provider_catalog_ids)\n",
    "    # print(subcatalog_id_list_a_group)\n",
    "    # print(catalog_names_list_a_group)\n",
    "    # print(provider_name_a_group)\n",
    "    # print(product_meta_list_a_group)\n",
    "\n",
    "    post_request_payload.append({\n",
    "        'providerName': provider_name_a_group,\n",
    "        'minPriceToBeAccepted': 0,\n",
    "        'minQuantityToBeAccepted': 0,\n",
    "        'providerBusinessKey': uuid4().__str__(),\n",
    "        'revision': 0,\n",
    "        'isUsed': True,\n",
    "        'availableProviderCatalogIds': available_provider_catalog_ids,\n",
    "        'availableStockItemRequestMetas': product_meta_list_a_group\n",
    "    })"
   ]
  },
  {
   "cell_type": "code",
   "execution_count": 4,
   "metadata": {},
   "outputs": [
    {
     "name": "stdout",
     "output_type": "stream",
     "text": [
      "Request: b'[{\"providerName\": \"PROVIDER FOR HOME IMPROVEMENT AND GARDENING - WATER - HOME CARE\", \"minPriceToBeAccepted\": 0, \"minQuantityToBeAccepted\": 0, \"providerBusinessKey\": \"ab1f7e30-fcad-46b1-b311-a2cc0500abad\", \"revision\": 0, \"isUsed\": true, \"availableProviderCatalogIds\": [\"424cb419-aa6a-4a07-9a83-fbf167864554\", \"db0288e7-4bb4-4ccb-b825-df9108d9e71b\", \"b3f4697b-ee01-4023-9cde-82ce5fe4a6ca\"], \"availableStockItemRequestMetas\": [{\"productId\": \"a490f4e0-25bc-4e7c-83b9-c5806e7312a5\", \"productModelId\": \"4d2aac8a-e35e-4cfc-a7fd-25b539f90448\", \"businessKey\": \"ac141966-5b6e-4c9d-96f0-6b1351105d40\", \"unitRequestPrice\": 0}, {\"productId\": \"03aed8c9-2643-4c97-8940-85fd0ae347f6\", \"productModelId\": \"caadb567-cbdf-41ed-8ec2-9d9766424d32\", \"businessKey\": \"dfd9682b-ac57-498e-90a2-536449cd651d\", \"unitRequestPrice\": 0}, {\"productId\": \"acc94c65-b2fc-4966-bf4a-3b7e3a60f72b\", \"productModelId\": \"82bceb35-47fc-4c56-a67b-88bdb6621c3f\", \"businessKey\": \"7efc4829-63e1-4368-b5b7-8f555b4d3576\", \"unitRequestPrice\": 0}, {\"productId\": \"b12b85bb-6de1-4179-8791-13b3c29d9fc5\", \"productModelId\": \"f7326036-a116-4368-b3f9-23edd5b1c092\", \"businessKey\": \"4ba82d02-289f-4817-8ce2-069b51c5da87\", \"unitRequestPrice\": 0}, {\"productId\": \"a2f27267-6392-4e08-8d9e-563e6c1f58d7\", \"productModelId\": \"0110c081-13bd-45c1-bd09-d63d2a88978b\", \"businessKey\": \"33c15056-c38c-42ad-bb83-03f2e605c1f7\", \"unitRequestPrice\": 0}, {\"productId\": \"32abd085-75a1-4211-af06-69d5f098c5e9\", \"productModelId\": \"dc80cffb-15ef-48b7-af01-58977b6242d8\", \"businessKey\": \"0006acc2-97aa-4a8a-8740-a55b6afe691d\", \"unitRequestPrice\": 0}, {\"productId\": \"b9eaf83a-a4e6-466e-8ec4-64a17bc06af1\", \"productModelId\": \"106587a9-64de-402b-b0ce-7aa995ef4ec8\", \"businessKey\": \"cae2a8f6-9b3e-4d49-8a20-f7a42bd055f3\", \"unitRequestPrice\": 0}]}, {\"providerName\": \"PROVIDER FOR KITCHENAID - HOME APPLIANCES - BEER\", \"minPriceToBeAccepted\": 0, \"minQuantityToBeAccepted\": 0, \"providerBusinessKey\": \"e3e203d5-6c58-491b-b0a1-d34672a55d12\", \"revision\": 0, \"isUsed\": true, \"availableProviderCatalogIds\": [\"da7493e6-b0ce-473f-9953-99cdd82d164a\", \"1a88d3f8-1aea-4563-9eca-1dfee6f08f13\", \"c3371be9-4fda-4290-8e74-59a91379f882\"], \"availableStockItemRequestMetas\": [{\"productId\": \"8b118261-a9df-4337-abf9-7c8ed20cb895\", \"productModelId\": \"f855a64d-72bb-43f4-88db-697a6ef052dc\", \"businessKey\": \"93293c20-1db9-4dd5-a2fd-b3c1396356ba\", \"unitRequestPrice\": 0}, {\"productId\": \"bd08b8cf-56d5-4f98-b482-3200c5f96f51\", \"productModelId\": \"ddd00e1c-2dde-4ade-9787-cc58237b1cd1\", \"businessKey\": \"e24ffe6e-c60a-4c6c-9039-41c2cf37e178\", \"unitRequestPrice\": 0}, {\"productId\": \"980bb63f-d066-438c-9555-891796190d83\", \"productModelId\": \"05ced1ef-55be-4be8-acc2-41c90359fd13\", \"businessKey\": \"92beab80-034e-4320-8d35-9c96c14f9a71\", \"unitRequestPrice\": 0}, {\"productId\": \"f8520668-87c5-49bf-b793-3665af29ba2e\", \"productModelId\": \"93b7596f-95fa-435a-b122-4d55d6dbf718\", \"businessKey\": \"004f37b4-ddf7-456f-b6b8-bcce3b3e6394\", \"unitRequestPrice\": 0}]}, {\"providerName\": \"PROVIDER FOR COSMETICS - HEALTH CARE - BODY CARE\", \"minPriceToBeAccepted\": 0, \"minQuantityToBeAccepted\": 0, \"providerBusinessKey\": \"866271ba-f42e-4fee-a642-d6f3c253b14f\", \"revision\": 0, \"isUsed\": true, \"availableProviderCatalogIds\": [\"b39d9cf8-c0c5-43cd-b0e1-079bfb50ec23\", \"a0c11331-54c8-4c1c-8aff-0415c98aaa15\", \"d4289f80-8cda-4f63-9610-32fdd03fa39d\"], \"availableStockItemRequestMetas\": [{\"productId\": \"221c6de7-158f-4a1d-afda-b608cbd17a4d\", \"productModelId\": \"d2d9572c-2145-4da6-a91b-01e80f539619\", \"businessKey\": \"32b495d9-bc8f-48e7-9364-41e54f8c8d6e\", \"unitRequestPrice\": 0}, {\"productId\": \"0f9f123f-2ffb-4fcb-85cf-54e3c245ab7f\", \"productModelId\": \"b4f7c56a-d6a8-4419-9887-6bf09e57d266\", \"businessKey\": \"92e28962-cdc4-4182-a31c-4c7a922c3ace\", \"unitRequestPrice\": 0}, {\"productId\": \"ad6a322e-f1b7-405e-88a5-6cfeb1384c5c\", \"productModelId\": \"2003b94b-5025-4d40-bf05-4ad0d9da8fba\", \"businessKey\": \"a3162df0-a8b5-4036-9950-e7f5d446eeb2\", \"unitRequestPrice\": 0}]}, {\"providerName\": \"PROVIDER FOR SALTED PASTRY - OTHER FROZEN GOODS - BAKERY\", \"minPriceToBeAccepted\": 0, \"minQuantityToBeAccepted\": 0, \"providerBusinessKey\": \"a2a11abe-cca6-4379-909d-5a148d8bef24\", \"revision\": 0, \"isUsed\": true, \"availableProviderCatalogIds\": [\"fa5a70e3-19df-412b-b869-cc074cad91ac\", \"5b77c5e2-58dd-425d-b24c-f9520f6cfba4\", \"8c03fc5a-33b0-49b0-8279-18e710732d68\"], \"availableStockItemRequestMetas\": [{\"productId\": \"eedddd1d-cef1-4228-a4cf-59ae922a5f77\", \"productModelId\": \"b28bef18-3d9a-4222-ab69-447cb463ed80\", \"businessKey\": \"e9ac8ddd-f757-41a1-8b7a-0fe8f8297d7b\", \"unitRequestPrice\": 0}]}, {\"providerName\": \"PROVIDER FOR ICE CREAM - FROZEN VEGETABLES - FROZEN READY TO COOK\", \"minPriceToBeAccepted\": 0, \"minQuantityToBeAccepted\": 0, \"providerBusinessKey\": \"5d339753-e9a5-43ad-82cd-a03dc87147f7\", \"revision\": 0, \"isUsed\": true, \"availableProviderCatalogIds\": [\"7ec08204-3b42-4305-9fe2-8b19df320ece\", \"70fc07c5-238b-4fd8-9e3b-8098e2df93ed\", \"454247eb-5e6b-4470-8576-4c49ff4138ad\"], \"availableStockItemRequestMetas\": [{\"productId\": \"92ebd1f2-129c-4dd7-8068-3678b11b5c27\", \"productModelId\": \"b7951974-dc87-4b47-b900-cf264be2b047\", \"businessKey\": \"eda3a69e-1ca6-4a1d-a4ec-912b103ae845\", \"unitRequestPrice\": 0}]}, {\"providerName\": \"PROVIDER FOR PROCESSED MEAT - YOGURT AND CREAM - FISH AND SEAFOOD\", \"minPriceToBeAccepted\": 0, \"minQuantityToBeAccepted\": 0, \"providerBusinessKey\": \"0ee0566b-d369-44a2-8d8f-b2a44279f717\", \"revision\": 0, \"isUsed\": true, \"availableProviderCatalogIds\": [\"4faecd43-959b-4856-b204-efb1a7b34b91\", \"64e60adf-7a19-453d-948a-ec0c20f3bbd7\", \"20dcd5fb-6bd6-4498-a614-780c088cef9e\"], \"availableStockItemRequestMetas\": [{\"productId\": \"d77e63e0-2ac3-42c8-a581-3d1a1eec8f4e\", \"productModelId\": \"5f5655bc-00a3-45db-b1e6-5fc440ac34d4\", \"businessKey\": \"34b99470-84cf-4f14-8509-92dab539ba7c\", \"unitRequestPrice\": 0}, {\"productId\": \"f36ff669-25b2-4242-9b97-8541a7b17b1e\", \"productModelId\": \"c8c4a60a-e406-44b9-b22e-ab0ae370ce77\", \"businessKey\": \"80d3aa2f-23d6-4f6b-a022-14d82f11b99b\", \"unitRequestPrice\": 0}, {\"productId\": \"de08d51b-ec54-434c-9c95-612fbf96a65f\", \"productModelId\": \"f2db9421-ab4a-4ff2-89e6-6909b9f4a819\", \"businessKey\": \"328550b6-8c33-44e2-88c2-131d74d071fb\", \"unitRequestPrice\": 0}]}, {\"providerName\": \"PROVIDER FOR FRESH MILK - EGGS - DESSERTS\", \"minPriceToBeAccepted\": 0, \"minQuantityToBeAccepted\": 0, \"providerBusinessKey\": \"90fdcd0a-92f8-4bd7-a138-634a854091b2\", \"revision\": 0, \"isUsed\": true, \"availableProviderCatalogIds\": [\"43429304-08e0-4d64-9fbe-7e7b4b8b3403\", \"16a515d1-36a4-4e65-b584-b1117fab7c8f\", \"f4c3a3b1-420c-4faf-9881-8747e5e2c320\"], \"availableStockItemRequestMetas\": [{\"productId\": \"74729a01-d004-4b09-95cf-258878056f77\", \"productModelId\": \"5031e982-c0f1-49b4-9687-a26f5416e7ce\", \"businessKey\": \"db076d73-2e2a-474a-8ac9-ad8d0be7d1d9\", \"unitRequestPrice\": 0}, {\"productId\": \"028d6bba-692d-44d8-a609-401bae56b74a\", \"productModelId\": \"e16855b0-c95d-4621-b6a4-4d8b4d03107a\", \"businessKey\": \"a58a97ff-c736-443a-936c-bc57920b731d\", \"unitRequestPrice\": 0}, {\"productId\": \"56feec18-b12d-48e3-a863-383bd9756bf8\", \"productModelId\": \"184d63a2-8e5a-4309-a13e-b4b3dd2c7df5\", \"businessKey\": \"9837a926-1a5e-43b2-b880-11a60b4d3c8c\", \"unitRequestPrice\": 0}, {\"productId\": \"8dbec782-dc34-4507-9bd7-550e12fce08e\", \"productModelId\": \"eaae47d3-f0a6-4f42-98d0-75f57394a039\", \"businessKey\": \"a0944bd0-0ba8-4e66-b18f-e1ecf3209a68\", \"unitRequestPrice\": 0}, {\"productId\": \"1d4f0370-9200-4717-af30-1dccbf92fcc6\", \"productModelId\": \"9516195a-163e-4e49-9575-87f994f645d9\", \"businessKey\": \"187d1179-d1d2-4690-9c39-11045b019ffa\", \"unitRequestPrice\": 0}]}, {\"providerName\": \"PROVIDER FOR FLAVORS OF THE WORLD - SEASONING - DRIED VEGETABLES\", \"minPriceToBeAccepted\": 0, \"minQuantityToBeAccepted\": 0, \"providerBusinessKey\": \"fd8820a5-ea3d-40cb-962c-5f0356877439\", \"revision\": 0, \"isUsed\": true, \"availableProviderCatalogIds\": [\"a8038819-aad9-4059-a45f-cdc067c0a9c1\", \"1b9a269a-fbc2-40da-b08b-d11d5f2356c2\", \"6f79b66d-959c-43a4-b8e7-322ed0515760\"], \"availableStockItemRequestMetas\": [{\"productId\": \"0e5c419f-faa8-43ec-8f01-613df8831eb8\", \"productModelId\": \"81191db3-e4ea-4948-b671-91b01499af4a\", \"businessKey\": \"e0549df5-3e2c-4ab5-8de4-2031e6951079\", \"unitRequestPrice\": 0}, {\"productId\": \"47fe3ec3-d9ef-4bd5-82fc-cffae933774e\", \"productModelId\": \"a8447108-ac85-44a9-877c-161e4f415bb5\", \"businessKey\": \"892380f7-41ff-4d8a-9d21-23ceae65bae9\", \"unitRequestPrice\": 0}, {\"productId\": \"cbb40e8f-749a-4581-a246-687f970e2754\", \"productModelId\": \"1d5b81ce-4c3d-43ad-89d3-0d2d21620d3e\", \"businessKey\": \"3028a514-c683-4759-9ded-8c96172e80f9\", \"unitRequestPrice\": 0}, {\"productId\": \"86b70760-03da-4d4e-9e66-6d7e4e9eda64\", \"productModelId\": \"aeaececa-7571-45af-90b6-4e111f79b60d\", \"businessKey\": \"b7933366-bb89-40d9-ad05-679a7c87e45f\", \"unitRequestPrice\": 0}, {\"productId\": \"446ed937-7af9-469e-baca-75317a7cb5cd\", \"productModelId\": \"6526fbb9-757e-4cc6-ba91-45ab08382950\", \"businessKey\": \"c7b18458-b306-4e5d-a7ba-c31a4b2041a7\", \"unitRequestPrice\": 0}]}, {\"providerName\": \"PROVIDER FOR DRIED BEANS - OIL AND VINEGAR - CANNED FOOD\", \"minPriceToBeAccepted\": 0, \"minQuantityToBeAccepted\": 0, \"providerBusinessKey\": \"980c3003-7a65-4cd0-b5c0-fe1944bd8aa1\", \"revision\": 0, \"isUsed\": true, \"availableProviderCatalogIds\": [\"05f54d59-0146-4805-9e74-362020bb5fea\", \"a40ec11f-37d5-41d2-b325-fefe9fb9be1a\", \"1e5ce47a-f461-440d-98e2-4667ad9e2542\"], \"availableStockItemRequestMetas\": [{\"productId\": \"4de4f0a3-4197-46aa-9bee-cbc5566ce032\", \"productModelId\": \"1e4571b5-8103-4a41-a60c-b5f25afd4555\", \"businessKey\": \"45bca688-ae4f-41f6-b764-ca4921359748\", \"unitRequestPrice\": 0}, {\"productId\": \"be63e998-e604-4c73-a960-681d1100ec27\", \"productModelId\": \"78586825-c013-4bb8-a276-0bb89173f6df\", \"businessKey\": \"baf7b472-cf3f-4d3b-88d2-808ea674bba8\", \"unitRequestPrice\": 0}, {\"productId\": \"66c56173-59fe-40f3-abd6-bcb4fe2b50a9\", \"productModelId\": \"693c2e2e-49c1-43b0-9640-5b923e01b169\", \"businessKey\": \"2fbae031-0159-4c3a-ac73-c5018e4d1113\", \"unitRequestPrice\": 0}, {\"productId\": \"7f5295c0-ea45-43da-b3fc-8c29b733eb6d\", \"productModelId\": \"f3d69e57-1fe7-462f-9468-d60929eb4c20\", \"businessKey\": \"c9ba6448-fb9f-464e-9814-1c72735663c2\", \"unitRequestPrice\": 0}]}, {\"providerName\": \"PROVIDER FOR PROCESSED DAIRY PRODUCTS - HOT AND COLD BREWS - SNACKS, NUTS AND DRIED FRUITS\", \"minPriceToBeAccepted\": 0, \"minQuantityToBeAccepted\": 0, \"providerBusinessKey\": \"86962cc8-51bc-4ea6-ba47-84a6dd95710c\", \"revision\": 0, \"isUsed\": true, \"availableProviderCatalogIds\": [\"c0c8c727-7846-4a2a-9d91-c4da36c8795e\", \"e95c5f89-07e9-4018-b62d-230d7d30e5fa\", \"9650ea79-ec0f-49b9-9284-aa7579f06930\"], \"availableStockItemRequestMetas\": [{\"productId\": \"cad4d98d-976d-4df1-9433-f11f9047c0f4\", \"productModelId\": \"96c3fa67-e32c-4805-ba19-298a4e8a5c8b\", \"businessKey\": \"fe90c714-21be-4477-8efe-b8116eedbcc8\", \"unitRequestPrice\": 0}, {\"productId\": \"7179da60-b6bf-4504-9716-5a38a83fd6fe\", \"productModelId\": \"1dd4f2e5-4629-4844-bd17-ae80e0c859a1\", \"businessKey\": \"e4711ebb-1744-49e4-99f6-960a85dd19c9\", \"unitRequestPrice\": 0}, {\"productId\": \"f74d2279-4e1c-4d27-b819-6fd3cbf45bb4\", \"productModelId\": \"f04023b0-a9d6-41c2-b826-bef11e720178\", \"businessKey\": \"fc0c4867-826b-449c-a3ff-422f51724094\", \"unitRequestPrice\": 0}, {\"productId\": \"03573339-e321-472c-88ff-950a2cd37ea9\", \"productModelId\": \"141492bf-096d-4393-8951-3ae0cc82d619\", \"businessKey\": \"9d3d70e3-5f31-4221-83c1-b86d3de06f13\", \"unitRequestPrice\": 0}, {\"productId\": \"3f5fb1be-c4b6-42f8-abe3-e5c53aa6b82c\", \"productModelId\": \"c10cd068-9bed-476f-aa59-9621ab12e788\", \"businessKey\": \"644b9fef-ef4b-4c9f-ba6a-0c7ed308b3d6\", \"unitRequestPrice\": 0}, {\"productId\": \"692bd12c-cd9f-4f68-8874-6d521e8b0b13\", \"productModelId\": \"44a4b870-b6e7-4e46-8568-fadaf4afab31\", \"businessKey\": \"bc856e9c-9090-48ac-8b47-70153053b029\", \"unitRequestPrice\": 0}, {\"productId\": \"d21e000f-8e1a-4527-b043-7c33aab131f7\", \"productModelId\": \"b02851d2-4890-4e8b-a499-f737770d0d49\", \"businessKey\": \"7d86e400-267b-49a5-8563-48b696843a80\", \"unitRequestPrice\": 0}, {\"productId\": \"2eb10c5c-9ee7-41b8-ba1e-d7782d403068\", \"productModelId\": \"905fbd08-3d96-4de1-ab6f-ca78f25bc887\", \"businessKey\": \"60643122-bcf7-4693-997c-f4ae95b41a57\", \"unitRequestPrice\": 0}, {\"productId\": \"64b6bd52-efb9-4d62-9bf5-268f4c09673c\", \"productModelId\": \"f471d0f8-9315-4744-ad9e-b89705b51b6f\", \"businessKey\": \"7175e878-eba6-4868-ab6d-6585a5c6fd5a\", \"unitRequestPrice\": 0}, {\"productId\": \"1ed16f11-3830-4d1c-b479-e3af96674ff5\", \"productModelId\": \"d3f5828a-6164-4118-ad27-6d477c71fbaf\", \"businessKey\": \"b98ebb10-5531-4020-8d23-a6792f388be7\", \"unitRequestPrice\": 0}, {\"productId\": \"153f9e12-27ac-401e-815a-9cc37ef907c9\", \"productModelId\": \"2fc2790b-e392-41e4-86ff-0a1e383a447e\", \"businessKey\": \"b255e9ca-b661-4fe2-83e8-05cbd147bd27\", \"unitRequestPrice\": 0}]}, {\"providerName\": \"PROVIDER FOR CHOCOLATE AND CONFECTIONERY - RICE - HOME FURNISHING AND DECORATION\", \"minPriceToBeAccepted\": 0, \"minQuantityToBeAccepted\": 0, \"providerBusinessKey\": \"e4b527dd-fc49-4f6f-90eb-d27a9d70a9f8\", \"revision\": 0, \"isUsed\": true, \"availableProviderCatalogIds\": [\"a1dcc4cf-b387-4cc9-9bcd-e47df1dc15dc\", \"4ba10d46-8576-4cb9-85a7-a4d8a1a4d974\", \"7fab8b8a-2842-4664-8846-34d41851a9e6\"], \"availableStockItemRequestMetas\": [{\"productId\": \"763157af-b191-4776-a21f-afce770d9265\", \"productModelId\": \"46a04313-b23e-462f-8157-7e9d013c6566\", \"businessKey\": \"0b70a4c1-09e1-4128-bf16-8666712f4a0a\", \"unitRequestPrice\": 0}, {\"productId\": \"d3aa3035-657d-4bae-9a18-aecb4400395d\", \"productModelId\": \"b118c6bd-ab84-4f6b-9d8a-48e16c54ecc9\", \"businessKey\": \"7420b0a5-0abd-400a-9b6d-ae25c041d18a\", \"unitRequestPrice\": 0}, {\"productId\": \"37ee0d5b-0297-4424-86b7-bde8ea9a238d\", \"productModelId\": \"5e2a439b-a763-4609-b9df-b668722c4775\", \"businessKey\": \"70eb5895-19e7-48cc-9751-7c5d4851ee32\", \"unitRequestPrice\": 0}, {\"productId\": \"30418447-0a12-4843-b847-5bd2715e8a3e\", \"productModelId\": \"c6fa5714-90f2-40f0-965c-31728dfd5860\", \"businessKey\": \"7fee9cef-75c7-4abe-bb72-548bdb198be6\", \"unitRequestPrice\": 0}, {\"productId\": \"0440f9a8-ccd0-45e7-838e-d475eb1839c3\", \"productModelId\": \"27a3ee9a-fcc1-4f0d-8581-3f658ee9e46f\", \"businessKey\": \"312216e8-39e7-4948-8205-f1b3d881f081\", \"unitRequestPrice\": 0}, {\"productId\": \"7e5632d0-dfc8-4320-bbb6-9c80354780c5\", \"productModelId\": \"e5929544-a6e4-48da-978c-cbdaf7946276\", \"businessKey\": \"77496663-6e76-4494-9104-a84a79b6cf82\", \"unitRequestPrice\": 0}, {\"productId\": \"a7ba0ecf-bbbb-43cc-bfa1-cda6be28364c\", \"productModelId\": \"4e6a39c1-93a8-4602-9f05-9c81ce9e2aef\", \"businessKey\": \"77c1a40f-6ca5-4d18-a741-eca7dc734820\", \"unitRequestPrice\": 0}, {\"productId\": \"637caf26-600f-4e8c-baa8-01a89b2d6f9f\", \"productModelId\": \"2618411b-8311-4fc4-a0d1-d60b37f06aa9\", \"businessKey\": \"c2bc8cc7-cf10-44d8-8f25-e64920863b9d\", \"unitRequestPrice\": 0}, {\"productId\": \"2157a1c1-05e6-4a81-9625-6e5f6090f12c\", \"productModelId\": \"c0dbbfa0-ad36-49e5-bfd1-c5a333b6c9df\", \"businessKey\": \"e44b879c-ce21-43ce-8c8c-06bc2ba83570\", \"unitRequestPrice\": 0}]}, {\"providerName\": \"PROVIDER FOR SWEET PASTRY - JUICES - SAUCE AND CONDIMENTS\", \"minPriceToBeAccepted\": 0, \"minQuantityToBeAccepted\": 0, \"providerBusinessKey\": \"dbb77a29-fb00-4142-85a9-377bb7809f7a\", \"revision\": 0, \"isUsed\": true, \"availableProviderCatalogIds\": [\"b2b57f30-3f4a-4813-8598-b8ee0d9beccd\", \"5e5dc580-9c39-4064-9b25-494feccbd07b\", \"5a603f18-3e71-4c50-ac92-85eb7bc253c7\"], \"availableStockItemRequestMetas\": [{\"productId\": \"47651a14-d882-4139-8088-e47f3bddfec8\", \"productModelId\": \"5b6404d6-e320-4424-9aab-6c570eb0e9a1\", \"businessKey\": \"615ef705-ab8c-45bc-b6d5-143189c0b9fa\", \"unitRequestPrice\": 0}, {\"productId\": \"eef012df-b300-4c33-9fc3-9323a4d1515f\", \"productModelId\": \"a862baea-f0a7-48d6-a269-6c5620bc30de\", \"businessKey\": \"09e898b7-40ad-49f8-9da2-79ef7b520917\", \"unitRequestPrice\": 0}, {\"productId\": \"6fed75e6-5b25-4124-8ea3-90afc1b86955\", \"productModelId\": \"8cd1e7cc-22e4-4b63-8898-3a6d71061d9a\", \"businessKey\": \"9e6e5757-873f-4509-90ab-fdbdae0fa850\", \"unitRequestPrice\": 0}, {\"productId\": \"5f975abf-1bf5-4470-8c5a-bb3b038b8305\", \"productModelId\": \"52003b3c-c665-4889-9277-dda1a82c52a6\", \"businessKey\": \"d00ca6f8-0e09-44f4-9ba4-0a0618c17ea5\", \"unitRequestPrice\": 0}, {\"productId\": \"400d4921-08aa-47da-b0b5-d073c0b7e024\", \"productModelId\": \"4ab93f57-0499-4d30-b162-779831474e4d\", \"businessKey\": \"4a016e5f-bf58-40b2-b0d8-4ff069a86f94\", \"unitRequestPrice\": 0}, {\"productId\": \"139b3658-44a2-4c4c-8ce1-377cdd4acc71\", \"productModelId\": \"624063ae-8624-4835-85c6-c6e0d712ecf6\", \"businessKey\": \"1ea4e4db-ea0e-4f0f-bc80-dfa7e27643f4\", \"unitRequestPrice\": 0}, {\"productId\": \"967f6373-3470-4139-a8d3-a99eaf904976\", \"productModelId\": \"b8074c74-7239-404d-8d21-691886664dc0\", \"businessKey\": \"b50b79ff-53ba-408d-9ca6-7b8f269651c5\", \"unitRequestPrice\": 0}]}]'\n",
      "Response content: b'add all provider reqs successfully'\n",
      "Status code: 200\n",
      "Response: OK\n"
     ]
    }
   ],
   "source": [
    "response = requests.post(DOTNET_BULK_ADD_PROVIDER_REQUIREMENTS_ENDPOINT, json=post_request_payload)\n",
    "print(\"Request:\", response.request.body)\n",
    "print(\"Response content:\", response.content)\n",
    "print(\"Status code:\", response.status_code)\n",
    "print(\"Response:\", response.reason)"
   ]
  }
 ],
 "metadata": {
  "kernelspec": {
   "display_name": "venv",
   "language": "python",
   "name": "python3"
  },
  "language_info": {
   "codemirror_mode": {
    "name": "ipython",
    "version": 3
   },
   "file_extension": ".py",
   "mimetype": "text/x-python",
   "name": "python",
   "nbconvert_exporter": "python",
   "pygments_lexer": "ipython3",
   "version": "3.9.6"
  }
 },
 "nbformat": 4,
 "nbformat_minor": 2
}
