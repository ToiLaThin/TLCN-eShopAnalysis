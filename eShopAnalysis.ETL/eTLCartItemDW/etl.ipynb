{
 "cells": [
  {
   "cell_type": "code",
   "execution_count": null,
   "metadata": {},
   "outputs": [],
   "source": [
    "# ETL BrandDim\n",
    "from jobs.extract.extracts import extract_mongo_brands_to_df\n",
    "from jobs.load.loads import load_brand_df_to_mssql\n",
    "\n",
    "brand_df = extract_mongo_brands_to_df()\n",
    "load_brand_df_to_mssql(brand_df)\n",
    "\n"
   ]
  },
  {
   "cell_type": "code",
   "execution_count": null,
   "metadata": {},
   "outputs": [],
   "source": [
    "# ETL CatalogDim\n",
    "import os\n",
    "import pandas as pd\n",
    "from jobs.extract.extracts import extract_mongo_catalogs_to_df\n",
    "from jobs.load.loads import load_catalog_df_to_mssql\n",
    "\n",
    "category_df = extract_mongo_catalogs_to_df()\n",
    "#TODO:\n",
    "# 1. TRANSFORM DELETE NULL CATALOG NAME AND NOT SAVE TO MSSQL\n",
    "load_catalog_df_to_mssql(category_df)\n"
   ]
  },
  {
   "cell_type": "code",
   "execution_count": null,
   "metadata": {},
   "outputs": [],
   "source": [
    "# ETL SubCatalogDim\n",
    "from jobs.extract.extracts import extract_mongo_subcatalogs_to_df\n",
    "from jobs.load.loads import load_subcatalog_df_to_mssql\n",
    "\n",
    "subcatalog_df = extract_mongo_subcatalogs_to_df()\n",
    "print(subcatalog_df)\n",
    "load_subcatalog_df_to_mssql(subcatalog_df)\n"
   ]
  },
  {
   "cell_type": "code",
   "execution_count": null,
   "metadata": {},
   "outputs": [],
   "source": [
    "from jobs.extract.extracts import extract_mongo_usage_instruction_to_df\n",
    "\n",
    "usage_instruction_df = extract_mongo_usage_instruction_to_df()\n",
    "usage_instruction_df"
   ]
  },
  {
   "cell_type": "code",
   "execution_count": null,
   "metadata": {},
   "outputs": [],
   "source": [
    "# ETL PreserveInstructionTypeDim using SpaCy and Vector Similarity\n",
    "import pandas as pd\n",
    "\n",
    "usage_instruction_df = pd.read_csv('resources/product_usage_instruction.csv')\n",
    "usage_instruction_df.dropna(inplace=True, subset=['ProductUsageInstruction'])\n",
    "\n",
    "# another approach is to use topic modeling to find the most important words in the usage instruction, \n",
    "# the most important words will be the labels for the usage instruction type\n",
    "from jobs.transform.usage_instruction_transform import *\n",
    "sublists_list = transform_preprocess_usage_instruction_df_to_sublists_tokens(usage_instruction_df)\n",
    "lemm_stemm_sublists_list = transform_lemm_stem_sublists(sublists_list)\n",
    "reduced_usage_instruction_type_df = transform_sublists_to_reduced_usage_instruction_df(lemm_stemm_sublists_list)\n",
    "# print(reduced_usage_instruction_type_df)\n",
    "from jobs.load.loads import load_usage_instruction_df_to_mssql\n",
    "load_usage_instruction_df_to_mssql(reduced_usage_instruction_type_df)"
   ]
  },
  {
   "cell_type": "code",
   "execution_count": null,
   "metadata": {},
   "outputs": [],
   "source": [
    "# ETL UsageInstructionTypeDim using LDA topic modeling\n",
    "import pandas as pd\n",
    "\n",
    "usage_instruction_df = pd.read_csv('resources/product_usage_instruction.csv')\n",
    "usage_instruction_df.dropna(inplace=True, subset=['ProductUsageInstruction'])\n",
    "\n",
    "from jobs.transform.usage_instruction_transform import transform_to_usage_instruction_df_with_topic_and_word_representation\n",
    "from jobs.load.loads import load_usage_instruction_df_to_mssql\n",
    "# TODO create a util func to get the best number of topic\n",
    "usage_instruction_df_with_topic_and_wp = transform_to_usage_instruction_df_with_topic_and_word_representation(usage_instruction_df, 8)\n",
    "print(usage_instruction_df_with_topic_and_wp)\n",
    "# how to save the model to evaluate the new data: https://stackoverflow.com/a/22034166\n",
    "# how to use this model and evaluate the new data: https://datascience.stackexchange.com/a/107383\n",
    "# another document with all the above: https://medium.com/@rayhantithokharisma/latent-dirichlet-allocation-topic-modelling-with-online-learning-feature-5051ca9df749\n",
    "load_usage_instruction_df_to_mssql(usage_instruction_df_with_topic_and_wp)\n",
    "    "
   ]
  },
  {
   "cell_type": "code",
   "execution_count": null,
   "metadata": {},
   "outputs": [],
   "source": [
    "# ETL PreserveInstructionTypeDim\n",
    "import pandas as pd\n",
    "from jobs.extract.extracts import extract_mongo_preserve_instruction_to_df\n",
    "from jobs.transform.preserve_instruction_transform import transform_to_preserve_instruction_df_with_topic_and_word_representation\n",
    "# TODO create a util func to get the best number of topic\n",
    "preserve_instruction_df = extract_mongo_preserve_instruction_to_df()\n",
    "preserve_instruction_df_with_topic_and_wp = transform_to_preserve_instruction_df_with_topic_and_word_representation(preserve_instruction_df, 3)\n",
    "print(preserve_instruction_df_with_topic_and_wp)\n",
    "from jobs.load.loads import load_preserve_instruction_df_to_mssql\n",
    "load_preserve_instruction_df_to_mssql(preserve_instruction_df_with_topic_and_wp)"
   ]
  },
  {
   "cell_type": "code",
   "execution_count": null,
   "metadata": {},
   "outputs": [],
   "source": [
    "import pandas as pd\n",
    "from jobs.extract.extracts import extract_mongo_product_to_df\n",
    "from jobs.transform.product_product_models_transform import transform_product_df_to_product_df_with_fkey\n",
    "from jobs.load.loads import load_product_df_to_mssql\n",
    "product_not_transformed_df = extract_mongo_product_to_df()\n",
    "product_df_with_dim_keys = transform_product_df_to_product_df_with_fkey(product_not_transformed_df)\n",
    "load_product_df_to_mssql(product_df_with_dim_keys)"
   ]
  },
  {
   "cell_type": "code",
   "execution_count": null,
   "metadata": {},
   "outputs": [],
   "source": [
    "from jobs.extract.extracts import extract_mongo_product_model_to_df\n",
    "from jobs.load.loads import load_product_model_df_to_mssql\n",
    "product_model_df = extract_mongo_product_model_to_df()\n",
    "load_product_model_df_to_mssql(product_model_df)\n"
   ]
  },
  {
   "cell_type": "code",
   "execution_count": 1,
   "metadata": {},
   "outputs": [
    {
     "name": "stderr",
     "output_type": "stream",
     "text": [
      "2023-12-02 11:42:20,907 - INFO - Connected to MSSQL database\n",
      "d:\\Bi\\BiDocument\\HK1_2024\\TLCN\\eShopAnalysis\\TLCN-eShopAnalysis\\eShopAnalysis.ETL\\eTLCartItemDW\\jobs\\extract\\extracts.py:187: UserWarning: pandas only supports SQLAlchemy connectable (engine/connection) or database string URI or sqlite3 DBAPI2 connection. Other DBAPI2 objects are not tested. Please consider using SQLAlchemy.\n",
      "  df_cart_item = pd.read_sql_query(query, mssql_data_src_cursor.connection)\n",
      "2023-12-02 11:42:20,913 - INFO - Connection to MSSQL closed.\n",
      "2023-12-02 11:42:20,927 - INFO - Connected to MSSQL database\n",
      "d:\\Bi\\BiDocument\\HK1_2024\\TLCN\\eShopAnalysis\\TLCN-eShopAnalysis\\eShopAnalysis.ETL\\eTLCartItemDW\\jobs\\load\\loads.py:197: UserWarning: pandas only supports SQLAlchemy connectable (engine/connection) or database string URI or sqlite3 DBAPI2 connection. Other DBAPI2 objects are not tested. Please consider using SQLAlchemy.\n",
      "  df_cart_items = pd.read_sql_query(query, mssql_cursor.connection)\n",
      "2023-12-02 11:42:20,957 - INFO - Connection to MSSQL closed.\n"
     ]
    },
    {
     "name": "stdout",
     "output_type": "stream",
     "text": [
      "                                 CartId                        ProductModelId  \\\n",
      "0  E3378E1E-8FB1-44AF-9F33-DAC0333C5089  F7326036-A116-4368-B3F9-23EDD5B1C092   \n",
      "1  D9ACE071-5E4C-4203-A859-DAF5A44D6834  F7326036-A116-4368-B3F9-23EDD5B1C092   \n",
      "2  C66C7C44-0C0A-40CE-A089-98FF1D7FC2E9  DDD00E1C-2DDE-4ADE-9787-CC58237B1CD1   \n",
      "3  E3378E1E-8FB1-44AF-9F33-DAC0333C5089  82BCEB35-47FC-4C56-A67B-88BDB6621C3F   \n",
      "4  A8F86FC6-BF85-493C-856E-F501F328C40C  B28BEF18-3D9A-4222-AB69-447CB463ED80   \n",
      "5  EF5EEF3F-EE91-4CF2-B1A3-F1CCFFE8C56A  106587A9-64DE-402B-B0CE-7AA995EF4EC8   \n",
      "6  2DACB804-F1F2-4FD7-9DAF-1097398CDADC  D2D9572C-2145-4DA6-A91B-01E80F539619   \n",
      "7  AB7A5A92-5938-40CD-BAB2-CED839BF3D67  4D2AAC8A-E35E-4CFC-A7FD-25B539F90448   \n",
      "8  E3378E1E-8FB1-44AF-9F33-DAC0333C5089  4D2AAC8A-E35E-4CFC-A7FD-25B539F90448   \n",
      "9  BD85E535-3E00-4192-A223-D26AAA86748E  5B6404D6-E320-4424-9AAB-6C570EB0E9A1   \n",
      "\n",
      "                              ProductId                           BusinessKey  \\\n",
      "0  B12B85BB-6DE1-4179-8791-13B3C29D9FC5  4BA82D02-289F-4817-8CE2-069B51C5DA87   \n",
      "1  B12B85BB-6DE1-4179-8791-13B3C29D9FC5  4BA82D02-289F-4817-8CE2-069B51C5DA87   \n",
      "2  BD08B8CF-56D5-4F98-B482-3200C5F96F51  E24FFE6E-C60A-4C6C-9039-41C2CF37E178   \n",
      "3  ACC94C65-B2FC-4966-BF4A-3B7E3A60F72B  7EFC4829-63E1-4368-B5B7-8F555B4D3576   \n",
      "4  EEDDDD1D-CEF1-4228-A4CF-59AE922A5F77  E9AC8DDD-F757-41A1-8B7A-0FE8F8297D7B   \n",
      "5  B9EAF83A-A4E6-466E-8EC4-64A17BC06AF1  CAE2A8F6-9B3E-4D49-8A20-F7A42BD055F3   \n",
      "6  221C6DE7-158F-4A1D-AFDA-B608CBD17A4D  32B495D9-BC8F-48E7-9364-41E54F8C8D6E   \n",
      "7  A490F4E0-25BC-4E7C-83B9-C5806E7312A5  AC141966-5B6E-4C9D-96F0-6B1351105D40   \n",
      "8  A490F4E0-25BC-4E7C-83B9-C5806E7312A5  AC141966-5B6E-4C9D-96F0-6B1351105D40   \n",
      "9  47651A14-D882-4139-8088-E47F3BDDFEC8  615EF705-AB8C-45BC-B6D5-143189C0B9FA   \n",
      "\n",
      "  SaleItemKey  IsOnSale  SaleValue  Quantity  UnitPrice  FinalPrice  \\\n",
      "0        None     False       -1.0         4    11000.0     44000.0   \n",
      "1        None     False       -1.0         4    11000.0     44000.0   \n",
      "2        None     False       -1.0         3    20000.0     60000.0   \n",
      "3        None     False       -1.0         3     9000.0     27000.0   \n",
      "4        None     False       -1.0         1    98000.0     98000.0   \n",
      "5        None     False       -1.0         3    17000.0     51000.0   \n",
      "6        None     False       -1.0         1    79000.0     79000.0   \n",
      "7        None     False       -1.0         2     6000.0     12000.0   \n",
      "8        None     False       -1.0         3     6000.0     18000.0   \n",
      "9        None     False       -1.0         3   125000.0    375000.0   \n",
      "\n",
      "   UnitAfterSalePrice  FinalAfterSalePrice  \n",
      "0                -1.0                 -1.0  \n",
      "1                -1.0                 -1.0  \n",
      "2                -1.0                 -1.0  \n",
      "3                -1.0                 -1.0  \n",
      "4                -1.0                 -1.0  \n",
      "5                -1.0                 -1.0  \n",
      "6                -1.0                 -1.0  \n",
      "7                -1.0                 -1.0  \n",
      "8                -1.0                 -1.0  \n",
      "9                -1.0                 -1.0  \n"
     ]
    }
   ],
   "source": [
    "from jobs.extract.extracts import extract_mssql_cart_item_to_df\n",
    "from jobs.load.loads import load_cart_item_df_to_mssql\n",
    "cart_item_df = extract_mssql_cart_item_to_df()\n",
    "load_cart_item_df_to_mssql(cart_item_df)"
   ]
  }
 ],
 "metadata": {
  "kernelspec": {
   "display_name": "venv",
   "language": "python",
   "name": "python3"
  },
  "language_info": {
   "codemirror_mode": {
    "name": "ipython",
    "version": 3
   },
   "file_extension": ".py",
   "mimetype": "text/x-python",
   "name": "python",
   "nbconvert_exporter": "python",
   "pygments_lexer": "ipython3",
   "version": "3.9.6"
  }
 },
 "nbformat": 4,
 "nbformat_minor": 2
}
