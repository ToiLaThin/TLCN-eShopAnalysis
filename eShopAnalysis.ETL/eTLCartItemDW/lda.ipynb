{
 "cells": [
  {
   "cell_type": "code",
   "execution_count": null,
   "metadata": {},
   "outputs": [],
   "source": [
    "import pandas as pd\n",
    "\n",
    "usage_instruction_df = pd.read_csv('resources/product_usage_instruction.csv')\n",
    "usage_instruction_df.dropna(inplace=True, subset=['ProductUsageInstruction'])\n",
    "usage_instruction_df"
   ]
  },
  {
   "cell_type": "code",
   "execution_count": 2,
   "metadata": {},
   "outputs": [
    {
     "name": "stdout",
     "output_type": "stream",
     "text": [
      "['drink', 'directly', 'chill']\n",
      "['instantly']\n",
      "['chill']\n",
      "['serve', 'chill']\n",
      "['serve']\n",
      "['directly']\n",
      "['direct', 'boil']\n",
      "['shake']\n",
      "['wet', 'body']\n",
      "['eat', 'immediately', 'open', 'package']\n",
      "['dairectly', 'expiry', 'date']\n",
      "['spice', 'favorite', 'dish']\n",
      "['directly', 'suitable', 'cook', 'make', 'sauce', 'dish', 'pizza', 'pasta', 'french', 'fry']\n",
      "['food', 'seasoning', 'create', 'delicious', 'taste', 'expiry', 'date']\n",
      "['wash', 'process']\n",
      "['directly', 'expiry', 'date']\n",
      "['great', 'dip', 'tortilla', 'chip', 'cool', 'flavour', 'complement', 'crunchy', 'texture', 'seasoned', 'flavour', 'crisps', 'perfectly']\n",
      "['heat', 'sauce', 'pan', 'mix', 'freshly', 'boil', 'pasta', 'expiration', 'date']\n",
      "['heat', 'tbsp', 'oil', 'sauce', 'pan', 'sachet', 'green', 'paste', 'fry', 'aromatic', 'add', 'g', 'skinless', 'boneless', 'chicken', 'breast', 'cut', 'bitesize', 'piece', 'stirfry', 'coat', 'meat', 'paste', 'add', 'ml', 'coconut', 'milk', 'ml', 'water', 'bring', 'boil', 'add', 'g', 'assorted', 'vegetable', 'eggplant', 'baby', 'corn', 'cherry', 'tomato', 'season', 'tsp', 'fish', 'sauce', 'salt', 'tbsp', 'sugar', 'cook', 'fresh', 'basil', 'serve', 'rice']\n",
      "['drink', 'directly', 'delicious', 'drink', 'cold']\n",
      "['immediately', 'open']\n",
      "['well', 'day', 'right', 'open', 'box', 'refrigerator', 'open', 'box']\n",
      "['generally', 'eat', 'serve', 'cracker', 'bread']\n",
      "['enjoy', 'bread', 'salad', 'pasta']\n",
      "['slice', 'thinly', 'serve', 'glass', 'wine', 'try', 'salad', 'pasta', 'sandwich']\n",
      "['gram', 'bar', 'perfect', 'share', 'friend', 'family', 'bring', 'thing', 'set', 'bar', 'apart', 'lot', 'chocolate', 'bar', 'sweeten']\n",
      "['tasty', 'delicate', 'ideal', 'dish', 'meat', 'fish', 'excellent', 'salad', 'perfect', 'aperitif']\n",
      "['eat', 'directly', 'process', 'dish']\n",
      "['direct', 'open', 'good', 'time', 'ensure', 'crispiness', 'expiry', 'date']\n",
      "['well', 'sandwich', 'cracker', 'deep', 'flavor', 'make', 'great', 'cook', 'cheese', 'crusty', 'bread', 'wine']\n",
      "['direct']\n",
      "['directly', 'cook', 'delicious', 'dish']\n",
      "['heattreate', 'directly', 'bread', 'dish', 'user', 'preference', 'expiry', 'date']\n",
      "['directly']\n",
      "['consume', 'directly']\n",
      "['directly', 'heat', 'treatment', 'contain', 'milk', 'hazelnut', 'almond', 'nut']\n",
      "['directly', 'heat', 'treatment', 'contain', 'nuts', 'milk', 'soya', 'seasame', 'seed', 'hazelnut']\n",
      "['directly', 'heat', 'treatment', 'expiration', 'date']\n",
      "['well', 'hot']\n",
      "['friendly', 'brewing', 'equipment']\n"
     ]
    }
   ],
   "source": [
    "import spacy\n",
    "import re\n",
    "from spacy.tokens import Token\n",
    "#spacy.cli.download('en_core_web_md')\n",
    "nlp = spacy.load('en_core_web_md')\n",
    "pos_tag_keep = ['NOUN', 'VERB', 'ADJ', 'ADV']\n",
    "\n",
    "filter_pos_lambda = lambda token: token.pos_ in pos_tag_keep\n",
    "filter_stop_words_lambda = lambda token: not token.is_stop\n",
    "filter_word_lambda = lambda token: token not in ['product', 'warning', 'use']\n",
    "map_lemma_lambda = lambda token: token.lemma_\n",
    "map_lower_lambda = lambda token_text: token_text.lower()\n",
    "def map_remove_punct_numbers_func(text: str):\n",
    "    text = re.sub(r'[^\\w\\s]', '', text)\n",
    "    text = re.sub(r'[\\d?]', '', text)\n",
    "    text = re.sub(r'-', '', text)\n",
    "    text = text.strip()\n",
    "    return text\n",
    "\n",
    "def preprocess_text(text: str):\n",
    "    \"\"\"\n",
    "    From a text, return a list of tokens that are lemmatized and lowered,\n",
    "    filter by pos tag and stop words\n",
    "    \"\"\"\n",
    "    text = map_remove_punct_numbers_func(text)\n",
    "    doc = nlp(text)\n",
    "    tokens = filter(filter_pos_lambda, doc)\n",
    "    tokens = filter(filter_stop_words_lambda, tokens)\n",
    "    tokens_lemmed_list = list(map(map_lemma_lambda, tokens))\n",
    "    tokens_lemmed_lowered_list = list(map(map_lower_lambda, tokens_lemmed_list))\n",
    "    tokens_lemmed_lowered_list = list(filter(filter_word_lambda, tokens_lemmed_lowered_list))\n",
    "    return tokens_lemmed_lowered_list\n",
    "\n",
    "processed_tokens_list = []\n",
    "for usage_instruction_text in usage_instruction_df['ProductUsageInstruction']:\n",
    "    processed_tokens_list.append(preprocess_text(usage_instruction_text))\n",
    "    print(processed_tokens_list[-1])\n",
    "\n",
    "\n"
   ]
  },
  {
   "cell_type": "code",
   "execution_count": 3,
   "metadata": {},
   "outputs": [
    {
     "name": "stdout",
     "output_type": "stream",
     "text": [
      "{'chill': 0, 'directly': 1, 'serve': 2, 'boil': 3, 'direct': 4, 'eat': 5, 'open': 6, 'date': 7, 'expiry': 8, 'dish': 9, 'cook': 10, 'pasta': 11, 'sauce': 12, 'delicious': 13, 'heat': 14, 'milk': 15, 'well': 16, 'bread': 17, 'salad': 18, 'treatment': 19}\n"
     ]
    }
   ],
   "source": [
    "# I will apply the Dictionary Object from Gensim, which maps each word to their unique ID:\n",
    "from gensim.corpora.dictionary import Dictionary\n",
    "dictionary = Dictionary(processed_tokens_list)\n",
    "# fine-tune the dictionary by removing words that are too rare or too common from the dictionary:\n",
    "dictionary.filter_extremes(no_below=3, no_above=0.5, keep_n=1000)\n",
    "# dictionary is the token and the id, it is a dictionary for quick lookup\n",
    "print(dictionary.token2id)"
   ]
  },
  {
   "cell_type": "code",
   "execution_count": 4,
   "metadata": {},
   "outputs": [
    {
     "name": "stdout",
     "output_type": "stream",
     "text": [
      "[[(0, 1), (1, 1)], [], [(0, 1)], [(0, 1), (2, 1)], [(2, 1)], [(1, 1)], [(3, 1), (4, 1)], [], [], [(5, 1), (6, 1)], [(7, 1), (8, 1)], [(9, 1)], [(1, 1), (9, 1), (10, 1), (11, 1), (12, 1)], [(7, 1), (8, 1), (13, 1)], [], [(1, 1), (7, 1), (8, 1)], [], [(3, 1), (7, 1), (11, 1), (12, 1), (14, 1)], [(2, 1), (3, 1), (10, 1), (12, 2), (14, 1), (15, 1)], [(1, 1), (13, 1)], [(6, 1)], [(6, 2), (16, 1)], [(2, 1), (5, 1), (17, 1)], [(11, 1), (17, 1), (18, 1)], [(2, 1), (11, 1), (18, 1)], [], [(9, 1), (18, 1)], [(1, 1), (5, 1), (9, 1)], [(4, 1), (6, 1), (7, 1), (8, 1)], [(10, 1), (16, 1), (17, 1)], [(4, 1)], [(1, 1), (9, 1), (10, 1), (13, 1)], [(1, 1), (7, 1), (8, 1), (9, 1), (17, 1)], [(1, 1)], [(1, 1)], [(1, 1), (14, 1), (15, 1), (19, 1)], [(1, 1), (14, 1), (15, 1), (19, 1)], [(1, 1), (7, 1), (14, 1), (19, 1)], [(16, 1)], []]\n"
     ]
    }
   ],
   "source": [
    "# I will convert the dictionary into a bag-of-words:\n",
    "# token_list: multiple token combined into a document\n",
    "bow_corpus = [dictionary.doc2bow(token_list) for token_list in processed_tokens_list]\n",
    "# each list is the token id and the 1 is the count of the token appearence\n",
    "print(bow_corpus)"
   ]
  },
  {
   "cell_type": "code",
   "execution_count": 5,
   "metadata": {},
   "outputs": [
    {
     "data": {
      "image/png": "[encoded data removed]",
      "text/plain": [
       "<Figure size 640x480 with 1 Axes>"
      ]
     },
     "metadata": {},
     "output_type": "display_data"
    }
   ],
   "source": [
    "# we can use this\n",
    "#%%capture\n",
    "#%%python3 -m spacy download en_core_web_md -qq\n",
    "# import en_core_web_md\n",
    "# nlp = en_core_web_md.load()\n",
    "import matplotlib.pyplot as plt\n",
    "import seaborn as sns\n",
    "sns.set_style('darkgrid')\n",
    "\n",
    "from gensim.models import LdaMulticore\n",
    "from gensim.models import CoherenceModel\n",
    "import pyLDAvis.gensim_models\n",
    "pyLDAvis.enable_notebook()# Visualise inside a notebook\n",
    "\n",
    "topics = []\n",
    "score = []\n",
    "for i in range(1,20,1):\n",
    "   lda_model = LdaMulticore(corpus=bow_corpus, id2word=dictionary\\\n",
    "                            , iterations=10, num_topics=i, workers = 4, passes=10\\\n",
    "                            , random_state=100, per_word_topics=True)\n",
    "   cm = CoherenceModel(model=lda_model, corpus=bow_corpus, dictionary=dictionary, coherence='u_mass')\n",
    "   topics.append(i)\n",
    "   score.append(cm.get_coherence())\n",
    "_=plt.plot(topics, score)\n",
    "_=plt.xlabel('Number of Topics')\n",
    "_=plt.ylabel('Coherence Score')\n",
    "plt.show()"
   ]
  },
  {
   "cell_type": "code",
   "execution_count": 6,
   "metadata": {},
   "outputs": [
    {
     "data": {
      "text/plain": [
       "[(0,\n",
       "  '0.235*\"directly\" + 0.152*\"heat\" + 0.115*\"sauce\" + 0.115*\"milk\" + 0.078*\"treatment\" + 0.078*\"boil\" + 0.046*\"date\" + 0.042*\"serve\" + 0.041*\"pasta\" + 0.041*\"cook\"'),\n",
       " (1,\n",
       "  '0.250*\"well\" + 0.132*\"bread\" + 0.132*\"cook\" + 0.132*\"direct\" + 0.132*\"boil\" + 0.015*\"date\" + 0.015*\"expiry\" + 0.015*\"dish\" + 0.015*\"directly\" + 0.015*\"open\"'),\n",
       " (2,\n",
       "  '0.195*\"directly\" + 0.156*\"open\" + 0.106*\"chill\" + 0.106*\"cook\" + 0.106*\"dish\" + 0.093*\"delicious\" + 0.056*\"sauce\" + 0.056*\"pasta\" + 0.056*\"well\" + 0.006*\"serve\"'),\n",
       " (3,\n",
       "  '0.174*\"date\" + 0.173*\"treatment\" + 0.172*\"heat\" + 0.171*\"directly\" + 0.020*\"expiry\" + 0.020*\"direct\" + 0.020*\"open\" + 0.019*\"bread\" + 0.019*\"dish\" + 0.019*\"sauce\"'),\n",
       " (4,\n",
       "  '0.326*\"expiry\" + 0.323*\"date\" + 0.142*\"direct\" + 0.075*\"open\" + 0.008*\"directly\" + 0.008*\"treatment\" + 0.008*\"milk\" + 0.008*\"heat\" + 0.008*\"dish\" + 0.008*\"eat\"'),\n",
       " (5,\n",
       "  '0.314*\"dish\" + 0.176*\"delicious\" + 0.166*\"salad\" + 0.033*\"date\" + 0.033*\"expiry\" + 0.019*\"well\" + 0.019*\"pasta\" + 0.019*\"bread\" + 0.018*\"directly\" + 0.018*\"cook\"'),\n",
       " (6,\n",
       "  '0.230*\"eat\" + 0.156*\"bread\" + 0.156*\"dish\" + 0.156*\"directly\" + 0.083*\"serve\" + 0.083*\"open\" + 0.014*\"expiry\" + 0.012*\"date\" + 0.009*\"pasta\" + 0.009*\"salad\"'),\n",
       " (7,\n",
       "  '0.271*\"serve\" + 0.184*\"pasta\" + 0.184*\"salad\" + 0.098*\"chill\" + 0.098*\"bread\" + 0.011*\"open\" + 0.011*\"directly\" + 0.011*\"heat\" + 0.011*\"milk\" + 0.011*\"cook\"')]"
      ]
     },
     "execution_count": 6,
     "metadata": {},
     "output_type": "execute_result"
    }
   ],
   "source": [
    "# select 8 topics as the best number of topics\n",
    "best_topic_numer = 8\n",
    "lda_model = LdaMulticore(corpus=bow_corpus, id2word=dictionary\\\n",
    "                        , iterations=10, num_topics=best_topic_numer, workers = 4, passes=10\\\n",
    "                        , random_state=100, per_word_topics=True)\n",
    "lda_model.print_topics(-1)\n",
    "lda_model.show_topics(num_topics=best_topic_numer, num_words=10, log=False, formatted=True)\n"
   ]
  },
  {
   "cell_type": "code",
   "execution_count": 7,
   "metadata": {},
   "outputs": [
    {
     "data": {
      "text/html": [
       "\n",
       "<link rel=\"stylesheet\" type=\"text/css\" href=\"https://cdn.jsdelivr.net/gh/bmabey/pyLDAvis@3.4.0/pyLDAvis/js/ldavis.v1.0.0.css\">\n",
       "\n",
       "\n",
       "<div id=\"ldavis_el1472822651084434249554947752\" style=\"background-color:white;\"></div>\n",
       "<script type=\"text/javascript\">\n",
       "\n",
       "var ldavis_el1472822651084434249554947752_data = {\"mdsDat\": {\"x\": [-0.0022017624407474927, 0.08573918753164343, -0.27832384651125835, 0.10164251283571017, 0.1427702355522338, -0.02044479550913505, -0.08825649013613228, 0.059074958677685876], \"y\": [-0.2135065530182185, -0.05259167895378233, 0.10158478416096518, 0.019349912266856, 0.11186032688772772, 0.04962636827867549, -0.11100370714009761, 0.09468054751787396], \"topics\": [1, 2, 3, 4, 5, 6, 7, 8], \"cluster\": [1, 1, 1, 1, 1, 1, 1, 1], \"Freq\": [24.892331245018234, 18.088372198755795, 14.024297877975409, 12.519384982762356, 10.294284583000012, 7.754676256216725, 6.35387300761309, 6.072779848658382]}, \"tinfo\": {\"Term\": [\"dish\", \"date\", \"expiry\", \"serve\", \"heat\", \"directly\", \"well\", \"salad\", \"eat\", \"bread\", \"treatment\", \"delicious\", \"direct\", \"pasta\", \"boil\", \"cook\", \"open\", \"chill\", \"milk\", \"sauce\", \"milk\", \"heat\", \"sauce\", \"boil\", \"treatment\", \"directly\", \"pasta\", \"cook\", \"serve\", \"date\", \"delicious\", \"expiry\", \"salad\", \"chill\", \"well\", \"eat\", \"direct\", \"bread\", \"open\", \"dish\", \"chill\", \"open\", \"delicious\", \"cook\", \"dish\", \"well\", \"directly\", \"pasta\", \"sauce\", \"salad\", \"boil\", \"milk\", \"eat\", \"direct\", \"treatment\", \"bread\", \"serve\", \"heat\", \"expiry\", \"date\", \"expiry\", \"date\", \"direct\", \"open\", \"salad\", \"delicious\", \"chill\", \"milk\", \"well\", \"boil\", \"eat\", \"treatment\", \"pasta\", \"cook\", \"bread\", \"sauce\", \"serve\", \"heat\", \"dish\", \"directly\", \"eat\", \"bread\", \"dish\", \"serve\", \"open\", \"directly\", \"salad\", \"chill\", \"delicious\", \"well\", \"boil\", \"milk\", \"direct\", \"treatment\", \"expiry\", \"pasta\", \"cook\", \"sauce\", \"heat\", \"date\", \"salad\", \"serve\", \"pasta\", \"chill\", \"bread\", \"delicious\", \"milk\", \"boil\", \"well\", \"eat\", \"treatment\", \"direct\", \"cook\", \"sauce\", \"open\", \"heat\", \"expiry\", \"dish\", \"date\", \"directly\", \"well\", \"boil\", \"direct\", \"cook\", \"bread\", \"salad\", \"chill\", \"delicious\", \"milk\", \"eat\", \"treatment\", \"pasta\", \"sauce\", \"serve\", \"open\", \"heat\", \"expiry\", \"dish\", \"date\", \"directly\", \"treatment\", \"heat\", \"date\", \"directly\", \"salad\", \"chill\", \"delicious\", \"well\", \"boil\", \"milk\", \"direct\", \"eat\", \"pasta\", \"bread\", \"cook\", \"sauce\", \"serve\", \"open\", \"expiry\", \"dish\", \"dish\", \"delicious\", \"salad\", \"expiry\", \"well\", \"chill\", \"boil\", \"milk\", \"eat\", \"direct\", \"treatment\", \"date\", \"pasta\", \"bread\", \"cook\", \"sauce\", \"serve\", \"open\", \"heat\", \"directly\"], \"Freq\": [5.0, 6.0, 4.0, 4.0, 4.0, 11.0, 3.0, 3.0, 3.0, 4.0, 3.0, 3.0, 3.0, 4.0, 3.0, 4.0, 4.0, 3.0, 3.0, 4.0, 2.545130409498881, 3.3723001158261168, 2.5473288631321265, 1.732236869155534, 1.7356901200348143, 5.211363113587423, 0.9171848200531248, 0.9165557708154719, 0.9195456116357885, 1.0242797512523163, 0.2548232079460764, 0.15859006382616395, 0.101939287966391, 0.10193965935468402, 0.10193982441614759, 0.10193920543565921, 0.1019397831507817, 0.10193991726322084, 0.10194064972346542, 0.10556506934046439, 1.7115660259753593, 2.5142572548732516, 1.5026452491212932, 1.7106046724294974, 1.7021775060191784, 0.9058381073210908, 3.131802225992051, 0.906056226026412, 0.9060950280067098, 0.10068796784523934, 0.10069775080201843, 0.10069683622674866, 0.10068778043227422, 0.10068812527213004, 0.10068766048797656, 0.10068802032086957, 0.10070092932590681, 0.10069707611534401, 0.1006882302233905, 0.10068882244836028, 4.070853726180368, 4.037165601553272, 1.7673279558120591, 0.9353510741366339, 0.1040222654524376, 0.10426492520189332, 0.10402313728387277, 0.10519038008253608, 0.10402288154665179, 0.10402220733034193, 0.10426765694039018, 0.10531241323462164, 0.10402235844779069, 0.10402212595940798, 0.10408804804032598, 0.10402191671986354, 0.10402320703038759, 0.105154797735562, 0.10451108390150884, 0.1059572430129118, 2.562467089596985, 1.7419530644830716, 1.7408685401854662, 0.9227922872698975, 0.9223383544117143, 1.733443400700897, 0.10309899194033287, 0.10251036521558009, 0.1025095039219803, 0.10251000201948379, 0.10250940015166707, 0.10250916147994664, 0.10250993975729585, 0.10250938977463574, 0.15103156845443227, 0.10311155852526474, 0.1025093690205731, 0.10250918223400929, 0.1025093690205731, 0.13605227185485763, 1.689597341933002, 2.483930232181946, 1.689695092505148, 0.895133799033857, 0.8944569855402623, 0.10074909825121259, 0.10156550666103537, 0.10011301131844651, 0.09944999519523937, 0.09944922725254618, 0.10079467138370489, 0.0994504303627655, 0.10112376895852151, 0.10060454583826518, 0.10247260910292343, 0.10172466705054649, 0.09945012318568823, 0.10068013699736447, 0.09944996959714959, 0.10202165608809134, 1.7231702917596112, 0.9137555887971027, 0.913828195796344, 0.9138318981362487, 0.9138322066645741, 0.10152733890330105, 0.10152854087823537, 0.10152747388444341, 0.10152719749448524, 0.10152712679007735, 0.10152733890330105, 0.10152778884044225, 0.10152715892844458, 0.10152854087823537, 0.10156782681833476, 0.10152770528068746, 0.1016006465189479, 0.10157726907062632, 0.10164589091233134, 0.10157548860508189, 0.9788593175130431, 0.9719870629509354, 0.9839443898422068, 0.9645362430056701, 0.10940593660796355, 0.10940670552860458, 0.10940603140639875, 0.1094061367379934, 0.1094055468810633, 0.10940537835051184, 0.11035836595321354, 0.1094056100800201, 0.10943516612548218, 0.11008554658988028, 0.10942770864858012, 0.10943532412287417, 0.10940691619179391, 0.11029753695729641, 0.11128345121648933, 0.11004916505708412, 1.6973118786539199, 0.9516201977717644, 0.8962555614107406, 0.1809667926497951, 0.10259038365842749, 0.0995355393365217, 0.09953471382808068, 0.09953447221585404, 0.0995345426860868, 0.09955974082789039, 0.09953458295479124, 0.18104366560657184, 0.10022298652437608, 0.10000627042425393, 0.09966753008250125, 0.09953445208150181, 0.09953585141898112, 0.09956616368624863, 0.09953502591054009, 0.09968376843756684], \"Total\": [5.0, 6.0, 4.0, 4.0, 4.0, 11.0, 3.0, 3.0, 3.0, 4.0, 3.0, 3.0, 3.0, 4.0, 3.0, 4.0, 4.0, 3.0, 3.0, 4.0, 3.265559342009999, 4.955435819890305, 4.0710564710637955, 3.262275088264255, 3.3249154942868886, 11.450383139429693, 4.031255997048041, 4.057742844050802, 4.841463575932937, 6.664270363067065, 3.2275456875050623, 4.974464602255276, 3.2065346920594076, 3.225643772606715, 3.2489276226546453, 3.2792782392140394, 3.2956625369324803, 4.0670500593264585, 4.887791469709869, 5.662740649225613, 3.225643772606715, 4.887791469709869, 3.2275456875050623, 4.057742844050802, 5.662740649225613, 3.2489276226546453, 11.450383139429693, 4.031255997048041, 4.0710564710637955, 3.2065346920594076, 3.262275088264255, 3.265559342009999, 3.2792782392140394, 3.2956625369324803, 3.3249154942868886, 4.0670500593264585, 4.841463575932937, 4.955435819890305, 4.974464602255276, 6.664270363067065, 4.974464602255276, 6.664270363067065, 3.2956625369324803, 4.887791469709869, 3.2065346920594076, 3.2275456875050623, 3.225643772606715, 3.265559342009999, 3.2489276226546453, 3.262275088264255, 3.2792782392140394, 3.3249154942868886, 4.031255997048041, 4.057742844050802, 4.0670500593264585, 4.0710564710637955, 4.841463575932937, 4.955435819890305, 5.662740649225613, 11.450383139429693, 3.2792782392140394, 4.0670500593264585, 5.662740649225613, 4.841463575932937, 4.887791469709869, 11.450383139429693, 3.2065346920594076, 3.225643772606715, 3.2275456875050623, 3.2489276226546453, 3.262275088264255, 3.265559342009999, 3.2956625369324803, 3.3249154942868886, 4.974464602255276, 4.031255997048041, 4.057742844050802, 4.0710564710637955, 4.955435819890305, 6.664270363067065, 3.2065346920594076, 4.841463575932937, 4.031255997048041, 3.225643772606715, 4.0670500593264585, 3.2275456875050623, 3.265559342009999, 3.262275088264255, 3.2489276226546453, 3.2792782392140394, 3.3249154942868886, 3.2956625369324803, 4.057742844050802, 4.0710564710637955, 4.887791469709869, 4.955435819890305, 4.974464602255276, 5.662740649225613, 6.664270363067065, 11.450383139429693, 3.2489276226546453, 3.262275088264255, 3.2956625369324803, 4.057742844050802, 4.0670500593264585, 3.2065346920594076, 3.225643772606715, 3.2275456875050623, 3.265559342009999, 3.2792782392140394, 3.3249154942868886, 4.031255997048041, 4.0710564710637955, 4.841463575932937, 4.887791469709869, 4.955435819890305, 4.974464602255276, 5.662740649225613, 6.664270363067065, 11.450383139429693, 3.3249154942868886, 4.955435819890305, 6.664270363067065, 11.450383139429693, 3.2065346920594076, 3.225643772606715, 3.2275456875050623, 3.2489276226546453, 3.262275088264255, 3.265559342009999, 3.2956625369324803, 3.2792782392140394, 4.031255997048041, 4.0670500593264585, 4.057742844050802, 4.0710564710637955, 4.841463575932937, 4.887791469709869, 4.974464602255276, 5.662740649225613, 5.662740649225613, 3.2275456875050623, 3.2065346920594076, 4.974464602255276, 3.2489276226546453, 3.225643772606715, 3.262275088264255, 3.265559342009999, 3.2792782392140394, 3.2956625369324803, 3.3249154942868886, 6.664270363067065, 4.031255997048041, 4.0670500593264585, 4.057742844050802, 4.0710564710637955, 4.841463575932937, 4.887791469709869, 4.955435819890305, 11.450383139429693], \"Category\": [\"Default\", \"Default\", \"Default\", \"Default\", \"Default\", \"Default\", \"Default\", \"Default\", \"Default\", \"Default\", \"Default\", \"Default\", \"Default\", \"Default\", \"Default\", \"Default\", \"Default\", \"Default\", \"Default\", \"Default\", \"Topic1\", \"Topic1\", \"Topic1\", \"Topic1\", \"Topic1\", \"Topic1\", \"Topic1\", \"Topic1\", \"Topic1\", \"Topic1\", \"Topic1\", \"Topic1\", \"Topic1\", \"Topic1\", \"Topic1\", \"Topic1\", \"Topic1\", \"Topic1\", \"Topic1\", \"Topic1\", \"Topic2\", \"Topic2\", \"Topic2\", \"Topic2\", \"Topic2\", \"Topic2\", \"Topic2\", \"Topic2\", \"Topic2\", \"Topic2\", \"Topic2\", \"Topic2\", \"Topic2\", \"Topic2\", \"Topic2\", \"Topic2\", \"Topic2\", \"Topic2\", \"Topic2\", \"Topic2\", \"Topic3\", \"Topic3\", \"Topic3\", \"Topic3\", \"Topic3\", \"Topic3\", \"Topic3\", \"Topic3\", \"Topic3\", \"Topic3\", \"Topic3\", \"Topic3\", \"Topic3\", \"Topic3\", \"Topic3\", \"Topic3\", \"Topic3\", \"Topic3\", \"Topic3\", \"Topic3\", \"Topic4\", \"Topic4\", \"Topic4\", \"Topic4\", \"Topic4\", \"Topic4\", \"Topic4\", \"Topic4\", \"Topic4\", \"Topic4\", \"Topic4\", \"Topic4\", \"Topic4\", \"Topic4\", \"Topic4\", \"Topic4\", \"Topic4\", \"Topic4\", \"Topic4\", \"Topic4\", \"Topic5\", \"Topic5\", \"Topic5\", \"Topic5\", \"Topic5\", \"Topic5\", \"Topic5\", \"Topic5\", \"Topic5\", \"Topic5\", \"Topic5\", \"Topic5\", \"Topic5\", \"Topic5\", \"Topic5\", \"Topic5\", \"Topic5\", \"Topic5\", \"Topic5\", \"Topic5\", \"Topic6\", \"Topic6\", \"Topic6\", \"Topic6\", \"Topic6\", \"Topic6\", \"Topic6\", \"Topic6\", \"Topic6\", \"Topic6\", \"Topic6\", \"Topic6\", \"Topic6\", \"Topic6\", \"Topic6\", \"Topic6\", \"Topic6\", \"Topic6\", \"Topic6\", \"Topic6\", \"Topic7\", \"Topic7\", \"Topic7\", \"Topic7\", \"Topic7\", \"Topic7\", \"Topic7\", \"Topic7\", \"Topic7\", \"Topic7\", \"Topic7\", \"Topic7\", \"Topic7\", \"Topic7\", \"Topic7\", \"Topic7\", \"Topic7\", \"Topic7\", \"Topic7\", \"Topic7\", \"Topic8\", \"Topic8\", \"Topic8\", \"Topic8\", \"Topic8\", \"Topic8\", \"Topic8\", \"Topic8\", \"Topic8\", \"Topic8\", \"Topic8\", \"Topic8\", \"Topic8\", \"Topic8\", \"Topic8\", \"Topic8\", \"Topic8\", \"Topic8\", \"Topic8\", \"Topic8\"], \"logprob\": [20.0, 19.0, 18.0, 17.0, 16.0, 15.0, 14.0, 13.0, 12.0, 11.0, 10.0, 9.0, 8.0, 7.0, 6.0, 5.0, 4.0, 3.0, 2.0, 1.0, -2.1638, -1.8824, -2.163, -2.5486, -2.5466, -1.4472, -3.1845, -3.1852, -3.1819, -3.074, -4.4652, -4.9395, -5.3814, -5.3814, -5.3814, -5.3814, -5.3814, -5.3814, -5.3814, -5.3465, -2.2413, -1.8568, -2.3715, -2.2419, -2.2468, -2.8776, -1.6371, -2.8774, -2.8773, -5.0745, -5.0744, -5.0744, -5.0745, -5.0745, -5.0745, -5.0745, -5.0743, -5.0744, -5.0745, -5.0745, -1.1204, -1.1287, -1.9548, -2.5911, -4.7874, -4.7851, -4.7874, -4.7762, -4.7874, -4.7874, -4.7851, -4.7751, -4.7874, -4.7874, -4.7868, -4.7874, -4.7874, -4.7766, -4.7827, -4.769, -1.4698, -1.8557, -1.8564, -2.4911, -2.4916, -1.8606, -4.6828, -4.6885, -4.6885, -4.6885, -4.6885, -4.6885, -4.6885, -4.6885, -4.301, -4.6827, -4.6885, -4.6885, -4.6885, -4.4055, -1.6906, -1.3052, -1.6905, -2.3258, -2.3266, -4.5102, -4.5021, -4.5165, -4.5232, -4.5232, -4.5097, -4.5232, -4.5065, -4.5116, -4.4932, -4.5005, -4.5232, -4.5109, -4.5232, -4.4976, -1.3876, -2.022, -2.0219, -2.0219, -2.0219, -4.2192, -4.2192, -4.2192, -4.2192, -4.2192, -4.2192, -4.2192, -4.2192, -4.2192, -4.2188, -4.2192, -4.2185, -4.2187, -4.218, -4.2187, -1.7539, -1.7609, -1.7487, -1.7686, -3.9452, -3.9452, -3.9452, -3.9452, -3.9452, -3.9452, -3.9366, -3.9452, -3.945, -3.939, -3.945, -3.945, -3.9452, -3.9371, -3.9282, -3.9394, -1.1582, -1.7369, -1.7968, -3.3967, -3.9643, -3.9945, -3.9945, -3.9945, -3.9945, -3.9943, -3.9945, -3.3963, -3.9876, -3.9898, -3.9932, -3.9945, -3.9945, -3.9942, -3.9945, -3.993], \"loglift\": [20.0, 19.0, 18.0, 17.0, 16.0, 15.0, 14.0, 13.0, 12.0, 11.0, 10.0, 9.0, 8.0, 7.0, 6.0, 5.0, 4.0, 3.0, 2.0, 1.0, 1.1414, 1.0057, 0.9218, 0.7576, 0.7406, 0.6034, -0.0899, -0.0971, -0.2705, -0.4822, -1.1483, -2.0551, -2.058, -2.0639, -2.0711, -2.0804, -2.0854, -2.2957, -2.4795, -2.5917, 1.0762, 1.0451, 0.9454, 0.8461, 0.5079, 0.4327, 0.4135, 0.2172, 0.2074, -1.751, -1.7682, -1.7692, -1.7735, -1.7784, -1.7873, -1.9887, -2.1629, -2.1862, -2.1901, -2.4826, 1.7639, 1.4632, 1.3412, 0.3108, -1.464, -1.4682, -1.4699, -1.471, -1.4771, -1.4812, -1.484, -1.4879, -1.6928, -1.6994, -1.7011, -1.7027, -1.876, -1.8884, -2.028, -2.7184, 1.8312, 1.23, 0.8984, 0.4203, 0.4103, 0.19, -1.3594, -1.371, -1.3716, -1.3782, -1.3823, -1.3833, -1.3925, -1.4014, -1.4167, -1.5881, -1.6005, -1.6038, -1.8004, -1.8136, 1.6329, 1.6062, 1.4041, 0.9917, 0.7591, -1.1933, -1.1969, -1.2103, -1.2128, -1.2222, -1.2225, -1.2271, -1.4185, -1.4269, -1.5913, -1.6124, -1.6388, -1.7561, -1.9313, -2.447, 1.9227, 1.2843, 1.2742, 1.0661, 1.0638, -0.8957, -0.9017, -0.9023, -0.914, -0.9182, -0.932, -1.1246, -1.1345, -1.3078, -1.3169, -1.331, -1.3341, -1.464, -1.6261, -2.1681, 1.5333, 1.1272, 0.8432, 0.282, -0.6218, -0.6277, -0.6283, -0.6349, -0.639, -0.64, -0.6405, -0.6442, -0.8504, -0.8533, -0.857, -0.8602, -1.0338, -1.0352, -1.0439, -1.1846, 1.5965, 1.58, 1.5266, -0.5124, -0.654, -0.677, -0.6883, -0.6893, -0.6935, -0.6983, -0.7073, -0.8044, -0.8931, -0.9041, -0.9052, -0.9098, -1.0831, -1.0923, -1.1064, -1.9424]}, \"token.table\": {\"Topic\": [1, 6, 4, 5, 6, 2, 5, 1, 2, 6, 1, 3, 7, 2, 8, 3, 6, 1, 2, 4, 7, 2, 4, 8, 4, 3, 1, 7, 1, 2, 3, 4, 1, 2, 5, 5, 8, 1, 2, 1, 4, 5, 1, 7, 2, 6], \"Freq\": [0.6130690839637719, 0.30653454198188596, 0.4917569173788873, 0.24587845868944366, 0.24587845868944366, 0.6200312684818743, 0.31001563424093714, 0.24644242832345445, 0.4928848566469089, 0.24644242832345445, 0.15005393621812407, 0.6002157448724963, 0.15005393621812407, 0.6196658989964686, 0.3098329494982343, 0.606858250074824, 0.303429125037412, 0.43666661098722276, 0.26199996659233366, 0.1746666443948891, 0.08733332219744455, 0.35318587304073384, 0.35318587304073384, 0.35318587304073384, 0.9148354549868951, 0.8041066365587399, 0.6053957934352602, 0.20179859781175338, 0.9186787578490172, 0.6137741388091736, 0.20459137960305787, 0.20459137960305787, 0.24806164647749182, 0.24806164647749182, 0.49612329295498364, 0.6237262939810869, 0.31186314699054346, 0.7369094536819527, 0.2456364845606509, 0.20654911150649372, 0.20654911150649372, 0.41309822301298743, 0.6015190471567008, 0.3007595235783504, 0.30779386805265807, 0.6155877361053161], \"Term\": [\"boil\", \"boil\", \"bread\", \"bread\", \"bread\", \"chill\", \"chill\", \"cook\", \"cook\", \"cook\", \"date\", \"date\", \"date\", \"delicious\", \"delicious\", \"direct\", \"direct\", \"directly\", \"directly\", \"directly\", \"directly\", \"dish\", \"dish\", \"dish\", \"eat\", \"expiry\", \"heat\", \"heat\", \"milk\", \"open\", \"open\", \"open\", \"pasta\", \"pasta\", \"pasta\", \"salad\", \"salad\", \"sauce\", \"sauce\", \"serve\", \"serve\", \"serve\", \"treatment\", \"treatment\", \"well\", \"well\"]}, \"R\": 20, \"lambda.step\": 0.01, \"plot.opts\": {\"xlab\": \"PC1\", \"ylab\": \"PC2\"}, \"topic.order\": [1, 3, 5, 7, 8, 2, 4, 6]};\n",
       "\n",
       "function LDAvis_load_lib(url, callback){\n",
       "  var s = document.createElement('script');\n",
       "  s.src = url;\n",
       "  s.async = true;\n",
       "  s.onreadystatechange = s.onload = callback;\n",
       "  s.onerror = function(){console.warn(\"failed to load library \" + url);};\n",
       "  document.getElementsByTagName(\"head\")[0].appendChild(s);\n",
       "}\n",
       "\n",
       "if(typeof(LDAvis) !== \"undefined\"){\n",
       "   // already loaded: just create the visualization\n",
       "   !function(LDAvis){\n",
       "       new LDAvis(\"#\" + \"ldavis_el1472822651084434249554947752\", ldavis_el1472822651084434249554947752_data);\n",
       "   }(LDAvis);\n",
       "}else if(typeof define === \"function\" && define.amd){\n",
       "   // require.js is available: use it to load d3/LDAvis\n",
       "   require.config({paths: {d3: \"https://d3js.org/d3.v5\"}});\n",
       "   require([\"d3\"], function(d3){\n",
       "      window.d3 = d3;\n",
       "      LDAvis_load_lib(\"https://cdn.jsdelivr.net/gh/bmabey/pyLDAvis@3.4.0/pyLDAvis/js/ldavis.v3.0.0.js\", function(){\n",
       "        new LDAvis(\"#\" + \"ldavis_el1472822651084434249554947752\", ldavis_el1472822651084434249554947752_data);\n",
       "      });\n",
       "    });\n",
       "}else{\n",
       "    // require.js not available: dynamically load d3 & LDAvis\n",
       "    LDAvis_load_lib(\"https://d3js.org/d3.v5.js\", function(){\n",
       "         LDAvis_load_lib(\"https://cdn.jsdelivr.net/gh/bmabey/pyLDAvis@3.4.0/pyLDAvis/js/ldavis.v3.0.0.js\", function(){\n",
       "                 new LDAvis(\"#\" + \"ldavis_el1472822651084434249554947752\", ldavis_el1472822651084434249554947752_data);\n",
       "            })\n",
       "         });\n",
       "}\n",
       "</script>"
      ],
      "text/plain": [
       "<IPython.core.display.HTML object>"
      ]
     },
     "execution_count": 7,
     "metadata": {},
     "output_type": "execute_result"
    }
   ],
   "source": [
    "lda_display = pyLDAvis.gensim_models.prepare(lda_model, bow_corpus, dictionary)\n",
    "pyLDAvis.display(lda_display)"
   ]
  },
  {
   "cell_type": "code",
   "execution_count": 14,
   "metadata": {},
   "outputs": [
    {
     "name": "stdout",
     "output_type": "stream",
     "text": [
      "0     2\n",
      "1     0\n",
      "2     2\n",
      "3     7\n",
      "5     7\n",
      "6     0\n",
      "7     1\n",
      "8     0\n",
      "9     0\n",
      "10    6\n",
      "11    4\n",
      "12    5\n",
      "13    2\n",
      "14    4\n",
      "15    0\n",
      "16    4\n",
      "17    0\n",
      "18    0\n",
      "19    0\n",
      "20    2\n",
      "21    2\n",
      "22    2\n",
      "23    6\n",
      "24    7\n",
      "25    7\n",
      "26    0\n",
      "27    5\n",
      "28    6\n",
      "29    4\n",
      "30    1\n",
      "31    4\n",
      "32    2\n",
      "33    6\n",
      "34    0\n",
      "35    0\n",
      "36    0\n",
      "37    0\n",
      "38    3\n",
      "39    1\n",
      "40    0\n",
      "Name: Topic, dtype: category\n",
      "Categories (8, int64): [0, 1, 2, 3, 4, 5, 6, 7]\n"
     ]
    }
   ],
   "source": [
    "usage_instruction_df['Topic'] = [max(lda_model.get_document_topics(bow_corpus[i]), key=lambda x:x[1])[0] for i in range(len(bow_corpus))]\n",
    "usage_instruction_df['Topic'] = usage_instruction_df['Topic'].astype('category')\n",
    "print(usage_instruction_df['Topic'])"
   ]
  },
  {
   "cell_type": "code",
   "execution_count": 53,
   "metadata": {},
   "outputs": [
    {
     "name": "stdout",
     "output_type": "stream",
     "text": [
      "Topic #0: directly, heat, sauce, milk, treatment\n",
      "Topic #1: well, bread, cook, direct, boil\n",
      "Topic #2: directly, open, chill, cook, dish\n",
      "Topic #3: date, treatment, heat, directly, expiry\n",
      "Topic #4: expiry, date, direct, open, directly\n",
      "Topic #5: dish, delicious, salad, date, expiry\n",
      "Topic #6: eat, bread, dish, directly, serve\n",
      "Topic #7: serve, pasta, salad, chill, bread\n",
      "{0: 'directly, heat, sauce, milk, treatment', 1: 'well, bread, cook, direct, boil', 2: 'directly, open, chill, cook, dish', 3: 'date, treatment, heat, directly, expiry', 4: 'expiry, date, direct, open, directly', 5: 'dish, delicious, salad, date, expiry', 6: 'eat, bread, dish, directly, serve', 7: 'serve, pasta, salad, chill, bread'}\n"
     ]
    }
   ],
   "source": [
    "topic_dict = {}\n",
    "topics_result = lda_model.show_topics(num_topics=best_topic_numer, num_words=5, log=False, formatted=False)\n",
    "for topic_id, tokens_probability_for_topic in topics_result:\n",
    "    word_representation = \", \".join([token for token, _prob in tokens_probability_for_topic])\n",
    "    print(\"Topic #{}: {}\".format(topic_id, word_representation))\n",
    "    topic_dict[topic_id] = word_representation\n",
    "\n",
    "print(topic_dict)\n",
    "return_df = pd.DataFrame.from_dict(topic_dict, orient='index', columns=['TopicWords'])\n",
    "return_df.to_csv('resources/lda_topics_usage_instruction_type.csv', index=True)"
   ]
  },
  {
   "cell_type": "code",
   "execution_count": 23,
   "metadata": {},
   "outputs": [
    {
     "name": "stdout",
     "output_type": "stream",
     "text": [
      "  Dominant_Topic Perc_Contribution  \\\n",
      "0              2            0.7082   \n",
      "0              0             0.125   \n",
      "0              2            0.5624   \n",
      "0              7            0.7082   \n",
      "0              7            0.5624   \n",
      "0              0            0.5622   \n",
      "0              1            0.7082   \n",
      "0              0             0.125   \n",
      "0              0             0.125   \n",
      "0              6            0.7081   \n",
      "0              4            0.7083   \n",
      "0              5            0.5624   \n",
      "0              2            0.8528   \n",
      "0              4            0.5303   \n",
      "0              0             0.125   \n",
      "0              4            0.5205   \n",
      "0              0             0.125   \n",
      "0              0             0.854   \n",
      "0              0            0.8905   \n",
      "0              2            0.7081   \n",
      "0              2            0.5624   \n",
      "0              2             0.781   \n",
      "0              6            0.7799   \n",
      "0              7            0.7811   \n",
      "0              7            0.7812   \n",
      "0              0             0.125   \n",
      "0              5            0.7082   \n",
      "0              6            0.7811   \n",
      "0              4            0.8249   \n",
      "0              1            0.7812   \n",
      "0              4            0.5624   \n",
      "0              2            0.8249   \n",
      "0              6             0.521   \n",
      "0              0            0.5622   \n",
      "0              0            0.5622   \n",
      "0              0            0.8249   \n",
      "0              0            0.8249   \n",
      "0              3            0.8228   \n",
      "0              1            0.5625   \n",
      "0              0             0.125   \n",
      "\n",
      "                                      Topic_Keywords  \n",
      "0  directly, open, chill, cook, dish, delicious, ...  \n",
      "0  directly, heat, sauce, milk, treatment, boil, ...  \n",
      "0  directly, open, chill, cook, dish, delicious, ...  \n",
      "0  serve, pasta, salad, chill, bread, open, direc...  \n",
      "0  serve, pasta, salad, chill, bread, open, direc...  \n",
      "0  directly, heat, sauce, milk, treatment, boil, ...  \n",
      "0  well, bread, cook, direct, boil, date, expiry,...  \n",
      "0  directly, heat, sauce, milk, treatment, boil, ...  \n",
      "0  directly, heat, sauce, milk, treatment, boil, ...  \n",
      "0  eat, bread, dish, directly, serve, open, expir...  \n",
      "0  expiry, date, direct, open, directly, treatmen...  \n",
      "0  dish, delicious, salad, date, expiry, well, pa...  \n",
      "0  directly, open, chill, cook, dish, delicious, ...  \n",
      "0  expiry, date, direct, open, directly, treatmen...  \n",
      "0  directly, heat, sauce, milk, treatment, boil, ...  \n",
      "0  expiry, date, direct, open, directly, treatmen...  \n",
      "0  directly, heat, sauce, milk, treatment, boil, ...  \n",
      "0  directly, heat, sauce, milk, treatment, boil, ...  \n",
      "0  directly, heat, sauce, milk, treatment, boil, ...  \n",
      "0  directly, open, chill, cook, dish, delicious, ...  \n",
      "0  directly, open, chill, cook, dish, delicious, ...  \n",
      "0  directly, open, chill, cook, dish, delicious, ...  \n",
      "0  eat, bread, dish, directly, serve, open, expir...  \n",
      "0  serve, pasta, salad, chill, bread, open, direc...  \n",
      "0  serve, pasta, salad, chill, bread, open, direc...  \n",
      "0  directly, heat, sauce, milk, treatment, boil, ...  \n",
      "0  dish, delicious, salad, date, expiry, well, pa...  \n",
      "0  eat, bread, dish, directly, serve, open, expir...  \n",
      "0  expiry, date, direct, open, directly, treatmen...  \n",
      "0  well, bread, cook, direct, boil, date, expiry,...  \n",
      "0  expiry, date, direct, open, directly, treatmen...  \n",
      "0  directly, open, chill, cook, dish, delicious, ...  \n",
      "0  eat, bread, dish, directly, serve, open, expir...  \n",
      "0  directly, heat, sauce, milk, treatment, boil, ...  \n",
      "0  directly, heat, sauce, milk, treatment, boil, ...  \n",
      "0  directly, heat, sauce, milk, treatment, boil, ...  \n",
      "0  directly, heat, sauce, milk, treatment, boil, ...  \n",
      "0  date, treatment, heat, directly, expiry, direc...  \n",
      "0  well, bread, cook, direct, boil, date, expiry,...  \n",
      "0  directly, heat, sauce, milk, treatment, boil, ...  \n"
     ]
    }
   ],
   "source": [
    "# These are from this medium post, thanks to the authors\n",
    "# https://brian-ho-44743.medium.com/discover-topics-from-texts-with-gensim-topic-modeling-2d17ba30d084\n",
    "def get_original_df_with_topic_tokens(ldamodel=lda_model, corpus=bow_corpus, texts=processed_tokens_list):\n",
    "    \"\"\"\n",
    "    From a dataframe, return a dataframe with the topic tokens\n",
    "    \"\"\"\n",
    "    with_topics_df = pd.DataFrame()\n",
    "    for i,row_list in enumerate(ldamodel[corpus]):\n",
    "        ## the model computes most likely topic for each word in format of ('topic',%)\n",
    "        row=row_list[0] if ldamodel.per_word_topics else row_list\n",
    "        ## sort topic based on largest probability(x[1]) to smallest\n",
    "        row=sorted(row, key=lambda x: (x[1]), reverse=True)\n",
    "        # print(row)   \n",
    "        ## Get dominant_topic, percentage_contribution, keywords for each document\n",
    "        for j,(topic_num, prop_topic) in enumerate(row):\n",
    "            ## if there is a dominant topic\n",
    "            if j==0:\n",
    "                ## get represent word and probability for each topic\n",
    "                wp = ldamodel.show_topic(topic_num)\n",
    "                ## join the words together \n",
    "                topic_keywords = \", \".join([word for word, prop in wp])\n",
    "                with_topics_df = pd.concat([with_topics_df ,pd.Series([int(topic_num), round(prop_topic,4), topic_keywords]).to_frame().T])\n",
    "            else:\n",
    "                break\n",
    "    with_topics_df.columns = ['Dominant_Topic', 'Perc_Contribution', 'Topic_Keywords']\n",
    "    \n",
    "    # Add original text to the end of the output\n",
    "    # contents = pd.Series(texts)\n",
    "    # with_topics_df = pd.concat([sent_topics_df, contents], axis=1)\n",
    "    print(with_topics_df)\n",
    "    return with_topics_df\n",
    "\n",
    "with_topics_df = get_original_df_with_topic_tokens(ldamodel=lda_model, corpus=bow_corpus, texts=processed_tokens_list)"
   ]
  }
 ],
 "metadata": {
  "kernelspec": {
   "display_name": "venv",
   "language": "python",
   "name": "python3"
  },
  "language_info": {
   "codemirror_mode": {
    "name": "ipython",
    "version": 3
   },
   "file_extension": ".py",
   "mimetype": "text/x-python",
   "name": "python",
   "nbconvert_exporter": "python",
   "pygments_lexer": "ipython3",
   "version": "3.9.6"
  }
 },
 "nbformat": 4,
 "nbformat_minor": 2
}
