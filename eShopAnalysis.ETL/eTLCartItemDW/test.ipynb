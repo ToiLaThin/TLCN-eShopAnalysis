{
 "cells": [
  {
   "cell_type": "code",
   "execution_count": null,
   "metadata": {},
   "outputs": [],
   "source": [
    "\n",
    "from jobs.extract.extracts import extract_mongo_brands_to_df\n",
    "from jobs.load.loads import load_brand_df_to_mssql\n",
    "\n",
    "brand_df = extract_mongo_brands_to_df()\n",
    "load_brand_df_to_mssql(brand_df)\n",
    "\n"
   ]
  },
  {
   "cell_type": "code",
   "execution_count": null,
   "metadata": {},
   "outputs": [],
   "source": [
    "import os\n",
    "import pandas as pd\n",
    "from jobs.extract.extracts import extract_mongo_catalogs_to_df\n",
    "from jobs.load.loads import load_catalog_df_to_mssql\n",
    "\n",
    "category_df = extract_mongo_catalogs_to_df()\n",
    "#TODO:\n",
    "# 1. TRANSFORM DELETE NULL CATALOG NAME AND NOT SAVE TO MSSQL\n",
    "load_catalog_df_to_mssql(category_df)\n"
   ]
  },
  {
   "cell_type": "code",
   "execution_count": null,
   "metadata": {},
   "outputs": [],
   "source": [
    "from jobs.extract.extracts import extract_mongo_subcatalogs_to_df\n",
    "from jobs.load.loads import load_subcatalog_df_to_mssql\n",
    "\n",
    "subcatalog_df = extract_mongo_subcatalogs_to_df()\n",
    "load_subcatalog_df_to_mssql(subcatalog_df)\n"
   ]
  },
  {
   "cell_type": "code",
   "execution_count": null,
   "metadata": {},
   "outputs": [],
   "source": [
    "from jobs.extract.extracts import extract_mongo_usage_instruction_to_df\n",
    "\n",
    "usage_instruction_df = extract_mongo_usage_instruction_to_df()\n",
    "usage_instruction_df"
   ]
  },
  {
   "cell_type": "code",
   "execution_count": null,
   "metadata": {},
   "outputs": [],
   "source": [
    "import pandas as pd\n",
    "\n",
    "usage_instruction_df = pd.read_csv('resources/product_usage_instruction.csv')\n",
    "usage_instruction_df.dropna(inplace=True, subset=['ProductUsageInstruction'])\n",
    "\n",
    "# another approach is to use topic modeling to find the most important words in the usage instruction, \n",
    "# the most important words will be the labels for the usage instruction type\n",
    "from jobs.transform.usage_instruction_transform import *\n",
    "sublists_list = transform_preprocess_usage_instruction_df_to_sublists_tokens(usage_instruction_df)\n",
    "lemm_stemm_sublists_list = transform_lemm_stem_sublists(sublists_list)\n",
    "reduced_usage_instruction_type_df = transform_sublists_to_reduced_usage_instruction_df(lemm_stemm_sublists_list)\n",
    "# print(reduced_usage_instruction_type_df)\n",
    "from jobs.load.loads import load_usage_instruction_df_to_mssql\n",
    "load_usage_instruction_df_to_mssql(reduced_usage_instruction_type_df)"
   ]
  }
 ],
 "metadata": {
  "kernelspec": {
   "display_name": "venv",
   "language": "python",
   "name": "python3"
  },
  "language_info": {
   "codemirror_mode": {
    "name": "ipython",
    "version": 3
   },
   "file_extension": ".py",
   "mimetype": "text/x-python",
   "name": "python",
   "nbconvert_exporter": "python",
   "pygments_lexer": "ipython3",
   "version": "3.9.6"
  }
 },
 "nbformat": 4,
 "nbformat_minor": 2
}
